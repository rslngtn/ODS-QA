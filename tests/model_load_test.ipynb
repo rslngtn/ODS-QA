{
 "cells": [
  {
   "cell_type": "code",
   "execution_count": 1,
   "metadata": {},
   "outputs": [],
   "source": [
    "import numpy as np\n",
    "import os\n",
    "import pandas as pd\n",
    "import tensorflow as tf\n",
    "import tensorflow_hub as hub\n",
    "import tensorflow_text "
   ]
  },
  {
   "cell_type": "code",
   "execution_count": 2,
   "metadata": {},
   "outputs": [],
   "source": [
    "model = tf.keras.models.load_model('models/USE_training.h5', custom_objects={'KerasLayer':hub.KerasLayer})"
   ]
  },
  {
   "cell_type": "code",
   "execution_count": 3,
   "metadata": {},
   "outputs": [
    {
     "name": "stdout",
     "output_type": "stream",
     "text": [
      "Model: \"model\"\n",
      "__________________________________________________________________________________________________\n",
      "Layer (type)                    Output Shape         Param #     Connected to                     \n",
      "==================================================================================================\n",
      "Question (InputLayer)           [(None, 1)]          0                                            \n",
      "__________________________________________________________________________________________________\n",
      "Answer (InputLayer)             [(None, 1)]          0                                            \n",
      "__________________________________________________________________________________________________\n",
      "tf_op_layer_Squeeze (TensorFlow None                 0           Question[0][0]                   \n",
      "__________________________________________________________________________________________________\n",
      "tf_op_layer_Squeeze_1 (TensorFl None                 0           Answer[0][0]                     \n",
      "__________________________________________________________________________________________________\n",
      "USE (KerasLayer)                (None, 512)          68927232    tf_op_layer_Squeeze[0][0]        \n",
      "                                                                 tf_op_layer_Squeeze_1[0][0]      \n",
      "__________________________________________________________________________________________________\n",
      "Cosine (Dot)                    (None, 1)            0           USE[0][0]                        \n",
      "                                                                 USE[1][0]                        \n",
      "__________________________________________________________________________________________________\n",
      "tf_op_layer_sub (TensorFlowOpLa (None, 1)            0           Cosine[0][0]                     \n",
      "__________________________________________________________________________________________________\n",
      "dense (Dense)                   (None, 2)            4           tf_op_layer_sub[0][0]            \n",
      "==================================================================================================\n",
      "Total params: 68,927,236\n",
      "Trainable params: 68,927,236\n",
      "Non-trainable params: 0\n",
      "__________________________________________________________________________________________________\n"
     ]
    }
   ],
   "source": [
    "model.summary()"
   ]
  },
  {
   "cell_type": "code",
   "execution_count": 5,
   "metadata": {},
   "outputs": [
    {
     "data": {
      "text/plain": [
       "[<tensorflow.python.keras.engine.input_layer.InputLayer at 0x7f88768fe410>,\n",
       " <tensorflow.python.keras.engine.input_layer.InputLayer at 0x7f88768fe990>,\n",
       " <tensorflow.python.keras.engine.base_layer.TensorFlowOpLayer at 0x7f88768fe890>,\n",
       " <tensorflow.python.keras.engine.base_layer.TensorFlowOpLayer at 0x7f88768feb10>,\n",
       " <tensorflow_hub.keras_layer.KerasLayer at 0x7f887691f990>,\n",
       " <tensorflow.python.keras.layers.merge.Dot at 0x7f887691fd50>,\n",
       " <tensorflow.python.keras.engine.base_layer.TensorFlowOpLayer at 0x7f88768fe3d0>,\n",
       " <tensorflow.python.keras.layers.core.Dense at 0x7f88768fef90>]"
      ]
     },
     "execution_count": 5,
     "metadata": {},
     "output_type": "execute_result"
    }
   ],
   "source": [
    "model.layers"
   ]
  },
  {
   "cell_type": "code",
   "execution_count": 6,
   "metadata": {},
   "outputs": [
    {
     "data": {
      "text/plain": [
       "'USE'"
      ]
     },
     "execution_count": 6,
     "metadata": {},
     "output_type": "execute_result"
    }
   ],
   "source": [
    "model.layers[4].name"
   ]
  }
 ],
 "metadata": {
  "kernelspec": {
   "display_name": "ODS-QA",
   "language": "python",
   "name": ".ods_qa"
  },
  "language_info": {
   "codemirror_mode": {
    "name": "ipython",
    "version": 3
   },
   "file_extension": ".py",
   "mimetype": "text/x-python",
   "name": "python",
   "nbconvert_exporter": "python",
   "pygments_lexer": "ipython3",
   "version": "3.7.5"
  }
 },
 "nbformat": 4,
 "nbformat_minor": 2
}
