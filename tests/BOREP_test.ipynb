{
 "cells": [
  {
   "cell_type": "code",
   "execution_count": 1,
   "metadata": {},
   "outputs": [
    {
     "name": "stderr",
     "output_type": "stream",
     "text": [
      "unable to import 'smart_open.gcs', disabling that module\n"
     ]
    }
   ],
   "source": [
    "import torch\n",
    "import torch.nn as nn\n",
    "\n",
    "from sklearn import metrics\n",
    "from sklearn.model_selection import train_test_split\n",
    "\n",
    "from dataset import get_dataloader\n",
    "\n",
    "import pandas as pd\n",
    "import numpy as np\n",
    "from tensorflow.keras.utils import to_categorical\n",
    "from tqdm import tqdm"
   ]
  },
  {
   "cell_type": "code",
   "execution_count": 2,
   "metadata": {},
   "outputs": [],
   "source": [
    "df = pd.read_parquet('data/QA_bin.parquet')\n",
    "train, test = train_test_split(df, test_size=0.2, stratify=df['isAnswer'])\n",
    "train, val = train_test_split(train, test_size=0.3, stratify=train['isAnswer'])"
   ]
  },
  {
   "cell_type": "markdown",
   "metadata": {},
   "source": [
    "### По совету из https://arxiv.org/abs/1901.10444 пробуем BOREP"
   ]
  },
  {
   "cell_type": "code",
   "execution_count": 3,
   "metadata": {},
   "outputs": [],
   "source": [
    "class BOREP(nn.Module):\n",
    "    def __init__(self, \n",
    "                 init=\"uniform\", \n",
    "                 projection=True, \n",
    "                 input_dim=300, \n",
    "                 output_dim=500, \n",
    "                 activation=None, \n",
    "                 pooling=\"max\", \n",
    "                 gpu=False):\n",
    "        super(BOREP, self).__init__()\n",
    "\n",
    "        self.init = init\n",
    "        self.projection = projection\n",
    "        self.input_dim = input_dim\n",
    "        self.output_dim = output_dim\n",
    "        self.activation = activation\n",
    "        self.pooling = pooling\n",
    "        self.gpu = gpu\n",
    "        self.proj = self.get_projection()\n",
    "\n",
    "        if gpu:\n",
    "            self.cuda()\n",
    "\n",
    "    def get_projection(self):\n",
    "        proj = nn.Linear(self.input_dim, self.output_dim)\n",
    "        if self.init == \"orthogonal\":\n",
    "            nn.init.orthogonal_(proj.weight)\n",
    "        elif self.init == \"sparse\":\n",
    "            nn.init.sparse_(proj.weight, sparsity=0.1)\n",
    "        elif self.init == \"normal\":\n",
    "            nn.init.normal_(proj.weight, std=0.1)\n",
    "        elif self.init == \"uniform\":\n",
    "            nn.init.uniform_(proj.weight, a=-0.1, b=0.1)\n",
    "        elif self.init == \"kaiming\":\n",
    "            nn.init.kaiming_uniform_(proj.weight)\n",
    "        elif self.init == \"xavier\":\n",
    "            nn.init.xavier_uniform_(proj.weight)\n",
    "\n",
    "        nn.init.constant_(proj.bias, 0)\n",
    "\n",
    "        if self.gpu:\n",
    "            proj = proj.cuda()\n",
    "        return proj\n",
    "\n",
    "    def borep(self, x):\n",
    "        batch_sz, seq_len = x.size(1), x.size(0)\n",
    "        out = torch.FloatTensor(seq_len, batch_sz, self.output_dim).zero_()\n",
    "        for i in range(seq_len):\n",
    "            if self.projection:\n",
    "                emb = self.proj(x[i])\n",
    "            else:\n",
    "                emb = x[i]\n",
    "            out[i] = emb\n",
    "        return out\n",
    "\n",
    "    def forward(self, batch):\n",
    "        out = self.borep(batch)\n",
    "        lengths = [batch.size(0)]*batch.size(1)\n",
    "        out = self.pool(out, lengths)\n",
    "\n",
    "        if self.activation is not None:\n",
    "            out = self.activation(out)\n",
    "            \n",
    "        return out\n",
    "\n",
    "    def encode(self, batch, params):\n",
    "        return self.forward(batch, params).cpu().detach().numpy()\n",
    "    \n",
    "    def sum_pool(self, x, lengths):\n",
    "        out = torch.FloatTensor(x.size(1), x.size(2)).zero_() # BxF\n",
    "        for i in range(x.size(1)):\n",
    "            out[i] = torch.sum(x[:lengths[i],i,:], 0)\n",
    "        return out\n",
    "\n",
    "    def mean_pool(self, x, lengths):\n",
    "        out = torch.FloatTensor(x.size(1), x.size(2)).zero_() # BxF\n",
    "        for i in range(x.size(1)):\n",
    "            out[i] = torch.mean(x[:lengths[i],i,:], 0)\n",
    "        return out\n",
    "\n",
    "    def max_pool(self, x, lengths):\n",
    "        out = torch.FloatTensor(x.size(1), x.size(2)).zero_() # BxF\n",
    "        for i in range(x.size(1)):\n",
    "            out[i,:] = torch.max(x[:lengths[i],i,:], 0)[0]\n",
    "        return out\n",
    "\n",
    "    def min_pool(self, x, lengths):\n",
    "        out = torch.FloatTensor(x.size(1), x.size(2)).zero_() # BxF\n",
    "        for i in range(x.size(1)):\n",
    "            out[i] = torch.min(x[:lengths[i],i,:], 0)[0]\n",
    "        return out\n",
    "\n",
    "    def hier_pool(self, x, lengths, n=5):\n",
    "        out = torch.FloatTensor(x.size(1), x.size(2)).zero_() # BxF\n",
    "        if x.size(0) <= n: return self.mean_pool(x, lengths) # BxF\n",
    "        for i in range(x.size(1)):\n",
    "            sliders = []\n",
    "            if lengths[i] <= n:\n",
    "                out[i] = torch.mean(x[:lengths[i],i,:], 0)\n",
    "                continue\n",
    "            for j in range(lengths[i]-n):\n",
    "                win = torch.mean(x[j:j+n,i,:], 0, keepdim=True) # 1xN\n",
    "                sliders.append(win)\n",
    "            sliders = torch.cat(sliders, 0)\n",
    "            out[i] = torch.max(sliders, 0)[0]\n",
    "        return out\n",
    "\n",
    "    def pool(self, out, lengths):\n",
    "        if self.pooling == \"mean\":\n",
    "            out = self.mean_pool(out, lengths)\n",
    "        elif self.pooling == \"max\":\n",
    "            out = self.max_pool(out, lengths)\n",
    "        elif self.pooling == \"min\":\n",
    "            out = self.min_pool(out, lengths)\n",
    "        elif self.pooling == \"hier\":\n",
    "            out = self.hier_pool(out, lengths)\n",
    "        elif self.pooling == \"sum\":\n",
    "            out = self.sum_pool(out, lengths)\n",
    "        else:\n",
    "            raise ValueError(\"No valid pooling operation specified!\")\n",
    "        return out"
   ]
  },
  {
   "cell_type": "code",
   "execution_count": 4,
   "metadata": {},
   "outputs": [],
   "source": [
    "class BOREP_clf(nn.Module):\n",
    "    def __init__(self, \n",
    "                 init=\"uniform\", \n",
    "                 projection=True, \n",
    "                 input_dim=300, \n",
    "                 output_dim=500, \n",
    "                 activation=None, \n",
    "                 pooling=\"max\", \n",
    "                 gpu=False):\n",
    "        super(BOREP_clf, self).__init__()\n",
    "\n",
    "        self.borep = BOREP(init, projection, input_dim, output_dim, activation, pooling, gpu)\n",
    "        self.cosine = nn.CosineSimilarity(dim=1)\n",
    "        self.lin = nn.Linear(1, 2)\n",
    "        self.pred = nn.LogSoftmax(dim=1)\n",
    "\n",
    "        if gpu:\n",
    "            self.cuda()\n",
    "            \n",
    "    def forward(self, q, a):\n",
    "        q_proj = self.borep(q.permute(1, 0, 2))\n",
    "        a_proj = self.borep(a.permute(1, 0, 2))\n",
    "        dist = self.cosine(q_proj, a_proj)\n",
    "        return self.pred(self.lin(dist.unsqueeze(1)))"
   ]
  },
  {
   "cell_type": "code",
   "execution_count": 5,
   "metadata": {},
   "outputs": [
    {
     "name": "stderr",
     "output_type": "stream",
     "text": [
      "100%|██████████| 516/516 [48:20<00:00,  5.62s/it]\n",
      "E:\\Programs\\Anaconda\\lib\\site-packages\\sklearn\\metrics\\_classification.py:1272: UndefinedMetricWarning: Precision and F-score are ill-defined and being set to 0.0 in labels with no predicted samples. Use `zero_division` parameter to control this behavior.\n",
      "  _warn_prf(average, modifier, msg_start, len(result))\n",
      "  0%|          | 0/516 [00:00<?, ?it/s]"
     ]
    },
    {
     "name": "stdout",
     "output_type": "stream",
     "text": [
      "              precision    recall  f1-score   support\n",
      "\n",
      "           0       0.00      0.00      0.00    134517\n",
      "           1       0.49      1.00      0.66    129597\n",
      "\n",
      "    accuracy                           0.49    264114\n",
      "   macro avg       0.25      0.50      0.33    264114\n",
      "weighted avg       0.24      0.49      0.32    264114\n",
      "\n"
     ]
    },
    {
     "name": "stderr",
     "output_type": "stream",
     "text": [
      "100%|██████████| 516/516 [52:13<00:00,  6.07s/it] \n",
      "  0%|          | 0/516 [00:00<?, ?it/s]"
     ]
    },
    {
     "name": "stdout",
     "output_type": "stream",
     "text": [
      "              precision    recall  f1-score   support\n",
      "\n",
      "           0       0.00      0.00      0.00    134517\n",
      "           1       0.49      1.00      0.66    129597\n",
      "\n",
      "    accuracy                           0.49    264114\n",
      "   macro avg       0.25      0.50      0.33    264114\n",
      "weighted avg       0.24      0.49      0.32    264114\n",
      "\n"
     ]
    },
    {
     "name": "stderr",
     "output_type": "stream",
     "text": [
      "100%|██████████| 516/516 [51:20<00:00,  5.97s/it] \n",
      "  0%|          | 0/516 [00:00<?, ?it/s]"
     ]
    },
    {
     "name": "stdout",
     "output_type": "stream",
     "text": [
      "              precision    recall  f1-score   support\n",
      "\n",
      "           0       0.59      0.24      0.34    134517\n",
      "           1       0.51      0.83      0.63    129597\n",
      "\n",
      "    accuracy                           0.53    264114\n",
      "   macro avg       0.55      0.53      0.48    264114\n",
      "weighted avg       0.55      0.53      0.48    264114\n",
      "\n"
     ]
    },
    {
     "name": "stderr",
     "output_type": "stream",
     "text": [
      "100%|██████████| 516/516 [2:48:51<00:00, 19.63s/it]  \n",
      "  0%|          | 0/516 [00:00<?, ?it/s]"
     ]
    },
    {
     "name": "stdout",
     "output_type": "stream",
     "text": [
      "              precision    recall  f1-score   support\n",
      "\n",
      "           0       0.00      0.00      0.00    134517\n",
      "           1       0.49      1.00      0.66    129597\n",
      "\n",
      "    accuracy                           0.49    264114\n",
      "   macro avg       0.25      0.50      0.33    264114\n",
      "weighted avg       0.24      0.49      0.32    264114\n",
      "\n"
     ]
    },
    {
     "name": "stderr",
     "output_type": "stream",
     "text": [
      "100%|██████████| 516/516 [1:10:47<00:00,  8.23s/it]\n"
     ]
    },
    {
     "name": "stdout",
     "output_type": "stream",
     "text": [
      "              precision    recall  f1-score   support\n",
      "\n",
      "           0       0.00      0.00      0.00    134517\n",
      "           1       0.49      1.00      0.66    129597\n",
      "\n",
      "    accuracy                           0.49    264114\n",
      "   macro avg       0.25      0.50      0.33    264114\n",
      "weighted avg       0.24      0.49      0.32    264114\n",
      "\n"
     ]
    }
   ],
   "source": [
    "test_loader = get_dataloader(test.loc[:, ['Question', 'Answer', 'isAnswer']], batch_size=512)\n",
    "with torch.no_grad():\n",
    "    for pool in [\"mean\", \"max\", \"min\", \"hier\", \"sum\"]:\n",
    "        model = BOREP_clf(pooling=pool)\n",
    "        pred = []\n",
    "        y_test = []\n",
    "        for batch in tqdm(test_loader):\n",
    "            pred.append(model(batch[0].float(), batch[1].float()).cpu().numpy())\n",
    "            y_test.append(batch[2].cpu().numpy())\n",
    "        \n",
    "        y_preds = np.argmax(np.vstack(pred), axis=1)\n",
    "        y_test = np.concatenate(y_test)\n",
    "        print(metrics.classification_report(y_test, y_preds))"
   ]
  },
  {
   "cell_type": "code",
   "execution_count": 5,
   "metadata": {},
   "outputs": [],
   "source": [
    "model = BOREP_clf(pooling=\"min\")"
   ]
  },
  {
   "cell_type": "code",
   "execution_count": 6,
   "metadata": {},
   "outputs": [
    {
     "name": "stdout",
     "output_type": "stream",
     "text": [
      "here\n",
      "borep.proj.weight\n",
      "Parameter containing:\n",
      "tensor([[ 0.0145, -0.0860, -0.0364,  ..., -0.0554, -0.0715,  0.0906],\n",
      "        [ 0.0777, -0.0003, -0.0775,  ...,  0.0226,  0.0027, -0.0217],\n",
      "        [-0.0733, -0.0102, -0.0371,  ...,  0.0938, -0.0168,  0.0984],\n",
      "        ...,\n",
      "        [-0.0106, -0.0914,  0.0477,  ..., -0.0964, -0.0996, -0.0289],\n",
      "        [-0.0421, -0.0544,  0.0918,  ...,  0.0646,  0.0651, -0.0648],\n",
      "        [ 0.0766,  0.0916,  0.0704,  ..., -0.0355, -0.0783, -0.0604]])\n",
      "here\n",
      "borep.proj.bias\n",
      "Parameter containing:\n",
      "tensor([0., 0., 0., 0., 0., 0., 0., 0., 0., 0., 0., 0., 0., 0., 0., 0., 0., 0., 0., 0., 0., 0., 0., 0.,\n",
      "        0., 0., 0., 0., 0., 0., 0., 0., 0., 0., 0., 0., 0., 0., 0., 0., 0., 0., 0., 0., 0., 0., 0., 0.,\n",
      "        0., 0., 0., 0., 0., 0., 0., 0., 0., 0., 0., 0., 0., 0., 0., 0., 0., 0., 0., 0., 0., 0., 0., 0.,\n",
      "        0., 0., 0., 0., 0., 0., 0., 0., 0., 0., 0., 0., 0., 0., 0., 0., 0., 0., 0., 0., 0., 0., 0., 0.,\n",
      "        0., 0., 0., 0., 0., 0., 0., 0., 0., 0., 0., 0., 0., 0., 0., 0., 0., 0., 0., 0., 0., 0., 0., 0.,\n",
      "        0., 0., 0., 0., 0., 0., 0., 0., 0., 0., 0., 0., 0., 0., 0., 0., 0., 0., 0., 0., 0., 0., 0., 0.,\n",
      "        0., 0., 0., 0., 0., 0., 0., 0., 0., 0., 0., 0., 0., 0., 0., 0., 0., 0., 0., 0., 0., 0., 0., 0.,\n",
      "        0., 0., 0., 0., 0., 0., 0., 0., 0., 0., 0., 0., 0., 0., 0., 0., 0., 0., 0., 0., 0., 0., 0., 0.,\n",
      "        0., 0., 0., 0., 0., 0., 0., 0., 0., 0., 0., 0., 0., 0., 0., 0., 0., 0., 0., 0., 0., 0., 0., 0.,\n",
      "        0., 0., 0., 0., 0., 0., 0., 0., 0., 0., 0., 0., 0., 0., 0., 0., 0., 0., 0., 0., 0., 0., 0., 0.,\n",
      "        0., 0., 0., 0., 0., 0., 0., 0., 0., 0., 0., 0., 0., 0., 0., 0., 0., 0., 0., 0., 0., 0., 0., 0.,\n",
      "        0., 0., 0., 0., 0., 0., 0., 0., 0., 0., 0., 0., 0., 0., 0., 0., 0., 0., 0., 0., 0., 0., 0., 0.,\n",
      "        0., 0., 0., 0., 0., 0., 0., 0., 0., 0., 0., 0., 0., 0., 0., 0., 0., 0., 0., 0., 0., 0., 0., 0.,\n",
      "        0., 0., 0., 0., 0., 0., 0., 0., 0., 0., 0., 0., 0., 0., 0., 0., 0., 0., 0., 0., 0., 0., 0., 0.,\n",
      "        0., 0., 0., 0., 0., 0., 0., 0., 0., 0., 0., 0., 0., 0., 0., 0., 0., 0., 0., 0., 0., 0., 0., 0.,\n",
      "        0., 0., 0., 0., 0., 0., 0., 0., 0., 0., 0., 0., 0., 0., 0., 0., 0., 0., 0., 0., 0., 0., 0., 0.,\n",
      "        0., 0., 0., 0., 0., 0., 0., 0., 0., 0., 0., 0., 0., 0., 0., 0., 0., 0., 0., 0., 0., 0., 0., 0.,\n",
      "        0., 0., 0., 0., 0., 0., 0., 0., 0., 0., 0., 0., 0., 0., 0., 0., 0., 0., 0., 0., 0., 0., 0., 0.,\n",
      "        0., 0., 0., 0., 0., 0., 0., 0., 0., 0., 0., 0., 0., 0., 0., 0., 0., 0., 0., 0., 0., 0., 0., 0.,\n",
      "        0., 0., 0., 0., 0., 0., 0., 0., 0., 0., 0., 0., 0., 0., 0., 0., 0., 0., 0., 0., 0., 0., 0., 0.,\n",
      "        0., 0., 0., 0., 0., 0., 0., 0., 0., 0., 0., 0., 0., 0., 0., 0., 0., 0., 0., 0.])\n",
      "lin.weight\n",
      "Parameter containing:\n",
      "tensor([[ 0.2528],\n",
      "        [-0.9942]], requires_grad=True)\n",
      "lin.bias\n",
      "Parameter containing:\n",
      "tensor([ 0.9471, -0.9254], requires_grad=True)\n"
     ]
    }
   ],
   "source": [
    "for name, par in model.named_parameters():\n",
    "    if name == 'borep.proj.weight' or name == 'borep.proj.bias':\n",
    "        print('here')\n",
    "        par.requires_grad = False\n",
    "    \n",
    "    print(name)\n",
    "    print(par)"
   ]
  },
  {
   "cell_type": "code",
   "execution_count": 7,
   "metadata": {},
   "outputs": [],
   "source": [
    "opt = torch.optim.Adam(model.lin.parameters(), lr=1e-3)\n",
    "criterion = nn.NLLLoss()"
   ]
  },
  {
   "cell_type": "code",
   "execution_count": 8,
   "metadata": {},
   "outputs": [
    {
     "name": "stderr",
     "output_type": "stream",
     "text": [
      "100%|██████████| 1445/1445 [2:28:18<00:00,  6.16s/it] \n"
     ]
    },
    {
     "name": "stdout",
     "output_type": "stream",
     "text": [
      "Report after epoch 1 training:\n"
     ]
    },
    {
     "name": "stderr",
     "output_type": "stream",
     "text": [
      "E:\\Programs\\Anaconda\\lib\\site-packages\\sklearn\\metrics\\_classification.py:1272: UndefinedMetricWarning: Precision and F-score are ill-defined and being set to 0.0 in labels with no predicted samples. Use `zero_division` parameter to control this behavior.\n",
      "  _warn_prf(average, modifier, msg_start, len(result))\n"
     ]
    },
    {
     "name": "stdout",
     "output_type": "stream",
     "text": [
      "              precision    recall  f1-score   support\n",
      "\n",
      "           0       0.51      1.00      0.67    376649\n",
      "           1       0.00      0.00      0.00    362870\n",
      "\n",
      "    accuracy                           0.51    739519\n",
      "   macro avg       0.25      0.50      0.34    739519\n",
      "weighted avg       0.26      0.51      0.34    739519\n",
      "\n",
      "Report after epoch 1 validation:\n",
      "              precision    recall  f1-score   support\n",
      "\n",
      "           0       0.51      1.00      0.67    161421\n",
      "           1       0.00      0.00      0.00    155516\n",
      "\n",
      "    accuracy                           0.51    316937\n",
      "   macro avg       0.25      0.50      0.34    316937\n",
      "weighted avg       0.26      0.51      0.34    316937\n",
      "\n",
      "Epoch: 1, Training Loss: 0.869, Validation Loss: 0.691\n"
     ]
    },
    {
     "name": "stderr",
     "output_type": "stream",
     "text": [
      "100%|██████████| 1445/1445 [2:25:21<00:00,  6.04s/it]  \n"
     ]
    },
    {
     "name": "stdout",
     "output_type": "stream",
     "text": [
      "Report after epoch 2 training:\n",
      "              precision    recall  f1-score   support\n",
      "\n",
      "           0       0.54      0.76      0.63    376649\n",
      "           1       0.57      0.33      0.42    362870\n",
      "\n",
      "    accuracy                           0.55    739519\n",
      "   macro avg       0.56      0.55      0.53    739519\n",
      "weighted avg       0.56      0.55      0.53    739519\n",
      "\n",
      "Report after epoch 2 validation:\n"
     ]
    },
    {
     "name": "stderr",
     "output_type": "stream",
     "text": [
      "  0%|          | 0/1445 [00:00<?, ?it/s]"
     ]
    },
    {
     "name": "stdout",
     "output_type": "stream",
     "text": [
      "              precision    recall  f1-score   support\n",
      "\n",
      "           0       0.56      0.62      0.59    161421\n",
      "           1       0.56      0.50      0.53    155516\n",
      "\n",
      "    accuracy                           0.56    316937\n",
      "   macro avg       0.56      0.56      0.56    316937\n",
      "weighted avg       0.56      0.56      0.56    316937\n",
      "\n",
      "Epoch: 2, Training Loss: 0.691, Validation Loss: 0.690\n"
     ]
    },
    {
     "name": "stderr",
     "output_type": "stream",
     "text": [
      "100%|██████████| 1445/1445 [2:33:36<00:00,  6.38s/it]  \n"
     ]
    },
    {
     "name": "stdout",
     "output_type": "stream",
     "text": [
      "Report after epoch 3 training:\n",
      "              precision    recall  f1-score   support\n",
      "\n",
      "           0       0.56      0.63      0.59    376649\n",
      "           1       0.56      0.49      0.52    362870\n",
      "\n",
      "    accuracy                           0.56    739519\n",
      "   macro avg       0.56      0.56      0.56    739519\n",
      "weighted avg       0.56      0.56      0.56    739519\n",
      "\n",
      "Report after epoch 3 validation:\n"
     ]
    },
    {
     "name": "stderr",
     "output_type": "stream",
     "text": [
      "  0%|          | 0/1445 [00:00<?, ?it/s]"
     ]
    },
    {
     "name": "stdout",
     "output_type": "stream",
     "text": [
      "              precision    recall  f1-score   support\n",
      "\n",
      "           0       0.57      0.48      0.52    161421\n",
      "           1       0.54      0.63      0.58    155516\n",
      "\n",
      "    accuracy                           0.55    316937\n",
      "   macro avg       0.55      0.55      0.55    316937\n",
      "weighted avg       0.55      0.55      0.55    316937\n",
      "\n",
      "Epoch: 3, Training Loss: 0.690, Validation Loss: 0.690\n"
     ]
    },
    {
     "name": "stderr",
     "output_type": "stream",
     "text": [
      "100%|██████████| 1445/1445 [2:21:45<00:00,  5.89s/it] \n"
     ]
    },
    {
     "name": "stdout",
     "output_type": "stream",
     "text": [
      "Report after epoch 4 training:\n",
      "              precision    recall  f1-score   support\n",
      "\n",
      "           0       0.57      0.56      0.56    376649\n",
      "           1       0.55      0.55      0.55    362870\n",
      "\n",
      "    accuracy                           0.56    739519\n",
      "   macro avg       0.56      0.56      0.56    739519\n",
      "weighted avg       0.56      0.56      0.56    739519\n",
      "\n",
      "Report after epoch 4 validation:\n",
      "              precision    recall  f1-score   support\n",
      "\n",
      "           0       0.57      0.57      0.57    161421\n",
      "           1       0.55      0.55      0.55    155516\n",
      "\n",
      "    accuracy                           0.56    316937\n",
      "   macro avg       0.56      0.56      0.56    316937\n",
      "weighted avg       0.56      0.56      0.56    316937\n",
      "\n",
      "Epoch: 4, Training Loss: 0.689, Validation Loss: 0.689\n"
     ]
    }
   ],
   "source": [
    "train_iter = get_dataloader(train.loc[:, ['Question', 'Answer', 'isAnswer']], batch_size=512)\n",
    "val_iter = get_dataloader(val.loc[:, ['Question', 'Answer', 'isAnswer']], batch_size=512)\n",
    "for epoch in range(1, 5):\n",
    "    running_loss = 0.0\n",
    "    y_pred = []\n",
    "    y_true = []\n",
    "    model.train() \n",
    "    for batch in tqdm(train_iter): \n",
    "        y = batch[2]\n",
    "        opt.zero_grad()\n",
    "        preds = model(batch[0].float(), batch[1].float())\n",
    "        loss = criterion(preds, y)\n",
    "        loss.backward()\n",
    "        opt.step()\n",
    "        running_loss += loss.item()\n",
    "        \n",
    "        y_pred.append(preds.detach().numpy())\n",
    "        y_true.append(y.detach().numpy())\n",
    "\n",
    "    epoch_loss = running_loss / len(train_iter)\n",
    "    \n",
    "    y_pred = np.argmax(np.vstack(y_pred), axis=1)\n",
    "    y_true = np.concatenate(y_true)\n",
    "    print(f'Report after epoch {epoch} training:')\n",
    "    print(metrics.classification_report(y_true, y_pred))\n",
    "    \n",
    "    val_loss = 0.0\n",
    "    y_pred = []\n",
    "    y_true = []\n",
    "    model.eval()\n",
    "    for batch in val_iter:\n",
    "        y = batch[2]\n",
    "        \n",
    "        preds = model(batch[0].float(), batch[1].float())\n",
    "        loss = criterion(preds, y)\n",
    "        val_loss += loss.item()\n",
    "        \n",
    "        y_pred.append(preds.detach().numpy())\n",
    "        y_true.append(y.detach().numpy())\n",
    "        \n",
    "    val_loss /= len(val_iter)\n",
    "    print(f'Report after epoch {epoch} validation:')\n",
    "    \n",
    "    y_pred = np.argmax(np.vstack(y_pred), axis=1)\n",
    "    y_true = np.concatenate(y_true)\n",
    "    print(metrics.classification_report(y_true, y_pred))\n",
    "    print('Epoch: {}, Training Loss: {:.3f}, Validation Loss: {:.3f}'.format(epoch, epoch_loss, val_loss))"
   ]
  }
 ],
 "metadata": {
  "kernelspec": {
   "display_name": "Python 3",
   "language": "python",
   "name": "python3"
  },
  "language_info": {
   "codemirror_mode": {
    "name": "ipython",
    "version": 3
   },
   "file_extension": ".py",
   "mimetype": "text/x-python",
   "name": "python",
   "nbconvert_exporter": "python",
   "pygments_lexer": "ipython3",
   "version": "3.7.6"
  }
 },
 "nbformat": 4,
 "nbformat_minor": 4
}