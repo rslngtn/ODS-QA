{
 "cells": [
  {
   "cell_type": "code",
   "execution_count": 1,
   "metadata": {},
   "outputs": [],
   "source": [
    "import numpy as np\n",
    "import pandas as pd\n",
    "import tensorflow as tf\n",
    "import tensorflow_hub as hub\n",
    "import tensorflow_text # Not used directly but needed to import TF ops.\n",
    "\n",
    "from modules.clustering import make_clusters"
   ]
  },
  {
   "cell_type": "code",
   "execution_count": 2,
   "metadata": {},
   "outputs": [],
   "source": [
    "use = hub.KerasLayer(\"models/USEm_large3\")\n",
    "df = pd.read_parquet('data/not_load/sim_clusters.parquet').drop_duplicates('question')"
   ]
  },
  {
   "cell_type": "code",
   "execution_count": 3,
   "metadata": {},
   "outputs": [
    {
     "output_type": "stream",
     "name": "stderr",
     "text": "Calculating embeddings: 100%|██████████| 10/10 [01:03<00:00,  6.36s/it]\nRedusing dimensionality from 512 to 2\nComputing clusters\nEstimated number of clusters: 17\nEstimated number of noise points: 0\nHomogeneity: 0.498\nCompleteness: 0.323\nV-measure: 0.392\nAdjusted Rand Index: 0.135\nAdjusted Mutual Information: 0.339\nSilhouette Coefficient: 0.361\nPlotting\nLook for Similiar questions clusters at plots/\n"
    }
   ],
   "source": [
    "make_clusters(use, df['question'].to_numpy(), df['channel'].to_numpy(), \n",
    "              plot_path='plots/', plot_name='sim_questions_clusters.html', plot_title='Similiar questions clusters')"
   ]
  },
  {
   "cell_type": "markdown",
   "metadata": {},
   "source": [
    "С использованием Sentence BERT"
   ]
  },
  {
   "cell_type": "code",
   "execution_count": 1,
   "metadata": {},
   "outputs": [],
   "source": [
    "import numpy as np\n",
    "import pandas as pd\n",
    "from sentence_transformers import SentenceTransformer\n",
    "\n",
    "from modules.clustering import make_clusters"
   ]
  },
  {
   "cell_type": "code",
   "execution_count": 2,
   "metadata": {},
   "outputs": [],
   "source": [
    "model = SentenceTransformer('distiluse-base-multilingual-cased')\n",
    "df = pd.read_parquet('data/qa_clean.parquet').drop_duplicates('question')"
   ]
  },
  {
   "cell_type": "code",
   "execution_count": 3,
   "metadata": {},
   "outputs": [
    {
     "output_type": "stream",
     "name": "stderr",
     "text": "Calculating embeddings: 100%|██████████| 328/328 [10:58<00:00,  2.01s/it]\nRedusing dimensionality from 512 to 2\nComputing clusters\nEstimated number of clusters: 222\nEstimated number of noise points: 0\nHomogeneity: 0.342\nCompleteness: 0.241\nV-measure: 0.283\nAdjusted Rand Index: 0.024\nAdjusted Mutual Information: 0.188\nSilhouette Coefficient: 0.322\nPlotting\nLook for Questions clusters via SBERT at plots/\n"
    }
   ],
   "source": [
    "make_clusters(model, df['question'].to_numpy(), df['channel'].to_numpy(), model_type='sbert', algorithm='kmeans',\n",
    "              plot_path='plots/', plot_name='SBERT_questions_clusters.html', plot_title='Questions clusters via SBERT')"
   ]
  }
 ],
 "metadata": {
  "language_info": {
   "codemirror_mode": {
    "name": "ipython",
    "version": 3
   },
   "file_extension": ".py",
   "mimetype": "text/x-python",
   "name": "python",
   "nbconvert_exporter": "python",
   "pygments_lexer": "ipython3",
   "version": "3.7.5-final"
  },
  "orig_nbformat": 2,
  "kernelspec": {
   "name": "ods-qa",
   "display_name": "ODS-QA"
  }
 },
 "nbformat": 4,
 "nbformat_minor": 2
}