{
 "cells": [
  {
   "cell_type": "code",
   "execution_count": 1,
   "metadata": {},
   "outputs": [],
   "source": [
    "import os\n",
    "import json\n",
    "import pandas as pd\n",
    "from tqdm import tqdm"
   ]
  },
  {
   "cell_type": "markdown",
   "metadata": {},
   "source": [
    "Данные полученные в этом и следующем разделах были отброшены на ранних этапах работы"
   ]
  },
  {
   "cell_type": "markdown",
   "metadata": {},
   "source": [
    "### Создание датасета из jsonов"
   ]
  },
  {
   "cell_type": "code",
   "execution_count": 2,
   "metadata": {},
   "outputs": [],
   "source": [
    "def dataParse(dataframe, dump, channel):\n",
    "    for message in dump:\n",
    "        if 'reply_count' in message and 'subtype' not in message:\n",
    "            dataframe.loc[len(df), ['channel', 'ThreadStarter', 'Question', 'Answers', 'reply_count', 'thread_ts']] = \\\n",
    "            [channel, message['user'], message['text'], '', message['reply_count'], message['thread_ts']]\n",
    "        elif 'parent_user_id' in message:\n",
    "            try:\n",
    "                dataframe.loc[(dataframe['thread_ts'] == message['thread_ts']) & (dataframe['ThreadStarter'] == message['parent_user_id']), 'Answers']\\\n",
    "                += (\"<BOA>\" + message['text'] + \"<EOA>\")\n",
    "            except KeyError:\n",
    "                continue"
   ]
  },
  {
   "cell_type": "code",
   "execution_count": 3,
   "metadata": {},
   "outputs": [
    {
     "output_type": "execute_result",
     "data": {
      "text/plain": "   channel ThreadStarter                                           Question  \\\n0  lang_go     U64GCA997  Народ, кто знает, есть ли в GO библиотека для ...   \n1  lang_go     U0FEJNBGQ           чо как, ml стало легче тут использовать?   \n2  lang_go     U64GCA997  Народ, какие у вам задавали вопросы на собесе ...   \n3  lang_go     U7KHK3TTP  Блин, а это что за шляпа такая? `CGO_LDFLAGS_A...   \n4  lang_go     U3B7T7V8W  Подскажите как вот эту штуку покрасивее сделат...   \n\n                                             Answers reply_count  \\\n0  <BOA>В python. Аналог pandas есть только в R, ...           5   \n1  <BOA>Деплоить тф модели относительно easy и по...           3   \n2  <BOA>Как насчет дженериков? :kekeke:<EOA><BOA>...           7   \n3  <BOA>Стоило написать, сразу нашел\\n<https://gi...           1   \n4  <BOA>есть вариант, вызывать эти `go Action`  в...           1   \n\n           thread_ts  \n0  1549648499.004600  \n1  1574626852.009300  \n2  1575315642.018100  \n3  1534807275.000100  \n4  1538993224.000100  ",
      "text/html": "<div>\n<style scoped>\n    .dataframe tbody tr th:only-of-type {\n        vertical-align: middle;\n    }\n\n    .dataframe tbody tr th {\n        vertical-align: top;\n    }\n\n    .dataframe thead th {\n        text-align: right;\n    }\n</style>\n<table border=\"1\" class=\"dataframe\">\n  <thead>\n    <tr style=\"text-align: right;\">\n      <th></th>\n      <th>channel</th>\n      <th>ThreadStarter</th>\n      <th>Question</th>\n      <th>Answers</th>\n      <th>reply_count</th>\n      <th>thread_ts</th>\n    </tr>\n  </thead>\n  <tbody>\n    <tr>\n      <th>0</th>\n      <td>lang_go</td>\n      <td>U64GCA997</td>\n      <td>Народ, кто знает, есть ли в GO библиотека для ...</td>\n      <td>&lt;BOA&gt;В python. Аналог pandas есть только в R, ...</td>\n      <td>5</td>\n      <td>1549648499.004600</td>\n    </tr>\n    <tr>\n      <th>1</th>\n      <td>lang_go</td>\n      <td>U0FEJNBGQ</td>\n      <td>чо как, ml стало легче тут использовать?</td>\n      <td>&lt;BOA&gt;Деплоить тф модели относительно easy и по...</td>\n      <td>3</td>\n      <td>1574626852.009300</td>\n    </tr>\n    <tr>\n      <th>2</th>\n      <td>lang_go</td>\n      <td>U64GCA997</td>\n      <td>Народ, какие у вам задавали вопросы на собесе ...</td>\n      <td>&lt;BOA&gt;Как насчет дженериков? :kekeke:&lt;EOA&gt;&lt;BOA&gt;...</td>\n      <td>7</td>\n      <td>1575315642.018100</td>\n    </tr>\n    <tr>\n      <th>3</th>\n      <td>lang_go</td>\n      <td>U7KHK3TTP</td>\n      <td>Блин, а это что за шляпа такая? `CGO_LDFLAGS_A...</td>\n      <td>&lt;BOA&gt;Стоило написать, сразу нашел\\n&lt;https://gi...</td>\n      <td>1</td>\n      <td>1534807275.000100</td>\n    </tr>\n    <tr>\n      <th>4</th>\n      <td>lang_go</td>\n      <td>U3B7T7V8W</td>\n      <td>Подскажите как вот эту штуку покрасивее сделат...</td>\n      <td>&lt;BOA&gt;есть вариант, вызывать эти `go Action`  в...</td>\n      <td>1</td>\n      <td>1538993224.000100</td>\n    </tr>\n  </tbody>\n</table>\n</div>"
     },
     "metadata": {},
     "execution_count": 3
    }
   ],
   "source": [
    "df = pd.DataFrame(columns=['channel', 'ThreadStarter', 'Question', 'Answers', 'reply_count', 'thread_ts'])\n",
    "for root, dirs, files in os.walk(\"opendatascience Slack export Mar 12 2015 - Jan 14 2020\", topdown = False):\n",
    "    for name in files:\n",
    "        with open(os.path.join(root, name)) as json_data:\n",
    "            dump = json.load(json_data)\n",
    "            dataParse(df, dump, root.split('/')[-1])\n",
    "\n",
    "df.head()"
   ]
  },
  {
   "cell_type": "code",
   "execution_count": 4,
   "metadata": {},
   "outputs": [
    {
     "output_type": "stream",
     "name": "stdout",
     "text": "<class 'pandas.core.frame.DataFrame'>\nInt64Index: 83101 entries, 0 to 83100\nData columns (total 6 columns):\n #   Column         Non-Null Count  Dtype \n---  ------         --------------  ----- \n 0   channel        83101 non-null  object\n 1   ThreadStarter  83101 non-null  object\n 2   Question       83101 non-null  object\n 3   Answers        83101 non-null  object\n 4   reply_count    83101 non-null  object\n 5   thread_ts      83101 non-null  object\ndtypes: object(6)\nmemory usage: 6.9+ MB\n"
    }
   ],
   "source": [
    "df.info()"
   ]
  },
  {
   "cell_type": "code",
   "execution_count": 26,
   "metadata": {},
   "outputs": [],
   "source": [
    "df_t = df.copy()"
   ]
  },
  {
   "cell_type": "code",
   "execution_count": 27,
   "metadata": {},
   "outputs": [
    {
     "output_type": "stream",
     "name": "stdout",
     "text": "<class 'pandas.core.frame.DataFrame'>\nInt64Index: 83101 entries, 0 to 83100\nData columns (total 6 columns):\n #   Column         Non-Null Count  Dtype \n---  ------         --------------  ----- \n 0   channel        83101 non-null  object\n 1   ThreadStarter  83101 non-null  object\n 2   Question       83101 non-null  object\n 3   Answers        83101 non-null  object\n 4   reply_count    83101 non-null  int64 \n 5   thread_ts      83101 non-null  object\ndtypes: int64(1), object(5)\nmemory usage: 4.4+ MB\n"
    }
   ],
   "source": [
    "df_t['reply_count'] = df_t['reply_count'].astype(int); df_t.info()"
   ]
  },
  {
   "cell_type": "code",
   "execution_count": 32,
   "metadata": {},
   "outputs": [],
   "source": [
    "df_t.loc[df_t['Answers'] == '', 'Answers'] = np.nan"
   ]
  },
  {
   "cell_type": "code",
   "execution_count": 42,
   "metadata": {},
   "outputs": [
    {
     "output_type": "stream",
     "name": "stdout",
     "text": "<class 'pandas.core.frame.DataFrame'>\nInt64Index: 83101 entries, 0 to 83100\nData columns (total 6 columns):\n #   Column         Non-Null Count  Dtype \n---  ------         --------------  ----- \n 0   channel        83101 non-null  object\n 1   ThreadStarter  83101 non-null  object\n 2   Question       83101 non-null  object\n 3   Answers        77474 non-null  object\n 4   reply_count    83101 non-null  int64 \n 5   thread_ts      83101 non-null  object\ndtypes: int64(1), object(5)\nmemory usage: 6.9+ MB\n"
    }
   ],
   "source": [
    "df_t.info()"
   ]
  },
  {
   "cell_type": "markdown",
   "metadata": {},
   "source": [
    "### Создание пар вопрос-ответ по всем данным"
   ]
  },
  {
   "cell_type": "code",
   "execution_count": 2,
   "metadata": {},
   "outputs": [
    {
     "output_type": "execute_result",
     "data": {
      "text/plain": "   channel ThreadStarter                                           Question  \\\n0  lang_go     U64GCA997  Народ, кто знает, есть ли в GO библиотека для ...   \n1  lang_go     U0FEJNBGQ           чо как, ml стало легче тут использовать?   \n2  lang_go     U64GCA997  Народ, какие у вам задавали вопросы на собесе ...   \n3  lang_go     U7KHK3TTP  Блин, а это что за шляпа такая? `CGO_LDFLAGS_A...   \n4  lang_go     U3B7T7V8W  Подскажите как вот эту штуку покрасивее сделат...   \n\n                                             Answers  reply_count  \\\n0  <BOA>В python. Аналог pandas есть только в R, ...            5   \n1  <BOA>Деплоить тф модели относительно easy и по...            3   \n2  <BOA>Как насчет дженериков? :kekeke:<EOA><BOA>...            7   \n3  <BOA>Стоило написать, сразу нашел\\n<https://gi...            1   \n4  <BOA>есть вариант, вызывать эти `go Action`  в...            1   \n\n           thread_ts  \n0  1549648499.004600  \n1  1574626852.009300  \n2  1575315642.018100  \n3  1534807275.000100  \n4  1538993224.000100  ",
      "text/html": "<div>\n<style scoped>\n    .dataframe tbody tr th:only-of-type {\n        vertical-align: middle;\n    }\n\n    .dataframe tbody tr th {\n        vertical-align: top;\n    }\n\n    .dataframe thead th {\n        text-align: right;\n    }\n</style>\n<table border=\"1\" class=\"dataframe\">\n  <thead>\n    <tr style=\"text-align: right;\">\n      <th></th>\n      <th>channel</th>\n      <th>ThreadStarter</th>\n      <th>Question</th>\n      <th>Answers</th>\n      <th>reply_count</th>\n      <th>thread_ts</th>\n    </tr>\n  </thead>\n  <tbody>\n    <tr>\n      <th>0</th>\n      <td>lang_go</td>\n      <td>U64GCA997</td>\n      <td>Народ, кто знает, есть ли в GO библиотека для ...</td>\n      <td>&lt;BOA&gt;В python. Аналог pandas есть только в R, ...</td>\n      <td>5</td>\n      <td>1549648499.004600</td>\n    </tr>\n    <tr>\n      <th>1</th>\n      <td>lang_go</td>\n      <td>U0FEJNBGQ</td>\n      <td>чо как, ml стало легче тут использовать?</td>\n      <td>&lt;BOA&gt;Деплоить тф модели относительно easy и по...</td>\n      <td>3</td>\n      <td>1574626852.009300</td>\n    </tr>\n    <tr>\n      <th>2</th>\n      <td>lang_go</td>\n      <td>U64GCA997</td>\n      <td>Народ, какие у вам задавали вопросы на собесе ...</td>\n      <td>&lt;BOA&gt;Как насчет дженериков? :kekeke:&lt;EOA&gt;&lt;BOA&gt;...</td>\n      <td>7</td>\n      <td>1575315642.018100</td>\n    </tr>\n    <tr>\n      <th>3</th>\n      <td>lang_go</td>\n      <td>U7KHK3TTP</td>\n      <td>Блин, а это что за шляпа такая? `CGO_LDFLAGS_A...</td>\n      <td>&lt;BOA&gt;Стоило написать, сразу нашел\\n&lt;https://gi...</td>\n      <td>1</td>\n      <td>1534807275.000100</td>\n    </tr>\n    <tr>\n      <th>4</th>\n      <td>lang_go</td>\n      <td>U3B7T7V8W</td>\n      <td>Подскажите как вот эту штуку покрасивее сделат...</td>\n      <td>&lt;BOA&gt;есть вариант, вызывать эти `go Action`  в...</td>\n      <td>1</td>\n      <td>1538993224.000100</td>\n    </tr>\n  </tbody>\n</table>\n</div>"
     },
     "metadata": {},
     "execution_count": 2
    }
   ],
   "source": [
    "df = pd.read_parquet('data/QA_ODS_mod.parquet'); df.head()"
   ]
  },
  {
   "cell_type": "code",
   "execution_count": 3,
   "metadata": {},
   "outputs": [],
   "source": [
    "clf_df = pd.DataFrame(columns=['Question', 'Answer', 'isAnswer'])"
   ]
  },
  {
   "cell_type": "code",
   "execution_count": 4,
   "metadata": {},
   "outputs": [
    {
     "output_type": "stream",
     "name": "stdout",
     "text": "<class 'pandas.core.frame.DataFrame'>\nInt64Index: 77474 entries, 0 to 83099\nData columns (total 6 columns):\n #   Column         Non-Null Count  Dtype \n---  ------         --------------  ----- \n 0   channel        77474 non-null  object\n 1   ThreadStarter  77474 non-null  object\n 2   Question       77474 non-null  object\n 3   Answers        77474 non-null  object\n 4   reply_count    77474 non-null  int64 \n 5   thread_ts      77474 non-null  object\ndtypes: int64(1), object(5)\nmemory usage: 4.1+ MB\n"
    }
   ],
   "source": [
    "df = df.dropna(); df.info()"
   ]
  },
  {
   "cell_type": "code",
   "execution_count": 5,
   "metadata": {},
   "outputs": [
    {
     "output_type": "stream",
     "name": "stderr",
     "text": "100%|██████████| 77474/77474 [20:34:59<00:00,  1.05it/s]\n"
    }
   ],
   "source": [
    "for ind, row in tqdm(df.iterrows(), total=len(df)):\n",
    "    #get real answers\n",
    "    ans = row['Answers'].replace('<BOA>', '').split('<EOA>')\n",
    "    #get rid of '' in answers\n",
    "    if len(ans) > row['reply_count']:\n",
    "        ans = ans[:-1]\n",
    "    for a in ans:\n",
    "        clf_df.loc[len(clf_df), ['Question', 'Answer', 'isAnswer']] = row['Question'], a, 1\n",
    "    \n",
    "    #get randow row from data\n",
    "    r_row = df.sample()\n",
    "    #get fake answers\n",
    "    ans = r_row['Answers'].values[0].replace('<BOA>', '').split('<EOA>')\n",
    "    #get rid of '' in answers\n",
    "    if len(ans) > row['reply_count']:\n",
    "        ans = ans[:-1]\n",
    "    for a in ans:\n",
    "        clf_df.loc[len(clf_df), ['Question', 'Answer', 'isAnswer']] = row['Question'], a, 0"
   ]
  },
  {
   "cell_type": "code",
   "execution_count": 6,
   "metadata": {},
   "outputs": [
    {
     "output_type": "stream",
     "name": "stdout",
     "text": "<class 'pandas.core.frame.DataFrame'>\nInt64Index: 1320570 entries, 0 to 1320569\nData columns (total 3 columns):\n #   Column    Non-Null Count    Dtype \n---  ------    --------------    ----- \n 0   Question  1320570 non-null  object\n 1   Answer    1320570 non-null  object\n 2   isAnswer  1320570 non-null  object\ndtypes: object(3)\nmemory usage: 40.3+ MB\n"
    }
   ],
   "source": [
    "clf_df.info()"
   ]
  },
  {
   "cell_type": "code",
   "execution_count": 8,
   "metadata": {},
   "outputs": [
    {
     "output_type": "execute_result",
     "data": {
      "text/plain": "0    672587\n1    647983\nName: isAnswer, dtype: int64"
     },
     "metadata": {},
     "execution_count": 8
    }
   ],
   "source": [
    "clf_df['isAnswer'].value_counts()"
   ]
  },
  {
   "cell_type": "code",
   "execution_count": 10,
   "metadata": {},
   "outputs": [
    {
     "output_type": "execute_result",
     "data": {
      "text/plain": "                                                  Question  \\\n1055395  Новые вакансии в <http://comma.ai|comma.ai>, в...   \n392890                          Что думаете, будет шейкап?   \n1051930                    Там главное всех unfollow нахер   \n892457                    На recsys2017 кто-нибудь поехал?   \n1179986  Друг говорит, что на запрос инвайта нет ответа...   \n\n                                                    Answer isAnswer  \n1055395  А обязательно приводить к одному размеру? Оно ...        0  \n392890   <@U4B8MC0AD> Насколько я помню там предлагаютс...        0  \n1051930                         Мало-мало человек фолловлю        1  \n892457   и рандомщиков! =) ибо потом можно прорешать и ...        0  \n1179986  Еще набор утверждений:\\n1) такой проблемы с по...        0  ",
      "text/html": "<div>\n<style scoped>\n    .dataframe tbody tr th:only-of-type {\n        vertical-align: middle;\n    }\n\n    .dataframe tbody tr th {\n        vertical-align: top;\n    }\n\n    .dataframe thead th {\n        text-align: right;\n    }\n</style>\n<table border=\"1\" class=\"dataframe\">\n  <thead>\n    <tr style=\"text-align: right;\">\n      <th></th>\n      <th>Question</th>\n      <th>Answer</th>\n      <th>isAnswer</th>\n    </tr>\n  </thead>\n  <tbody>\n    <tr>\n      <th>1055395</th>\n      <td>Новые вакансии в &lt;http://comma.ai|comma.ai&gt;, в...</td>\n      <td>А обязательно приводить к одному размеру? Оно ...</td>\n      <td>0</td>\n    </tr>\n    <tr>\n      <th>392890</th>\n      <td>Что думаете, будет шейкап?</td>\n      <td>&lt;@U4B8MC0AD&gt; Насколько я помню там предлагаютс...</td>\n      <td>0</td>\n    </tr>\n    <tr>\n      <th>1051930</th>\n      <td>Там главное всех unfollow нахер</td>\n      <td>Мало-мало человек фолловлю</td>\n      <td>1</td>\n    </tr>\n    <tr>\n      <th>892457</th>\n      <td>На recsys2017 кто-нибудь поехал?</td>\n      <td>и рандомщиков! =) ибо потом можно прорешать и ...</td>\n      <td>0</td>\n    </tr>\n    <tr>\n      <th>1179986</th>\n      <td>Друг говорит, что на запрос инвайта нет ответа...</td>\n      <td>Еще набор утверждений:\\n1) такой проблемы с по...</td>\n      <td>0</td>\n    </tr>\n  </tbody>\n</table>\n</div>"
     },
     "metadata": {},
     "execution_count": 10
    }
   ],
   "source": [
    "d = clf_df.sample(frac=1); d.head()"
   ]
  },
  {
   "cell_type": "code",
   "execution_count": 11,
   "metadata": {},
   "outputs": [],
   "source": [
    "d.to_parquet('data/QA_bin.parquet', compression='brotli', index=False)"
   ]
  },
  {
   "cell_type": "markdown",
   "metadata": {},
   "source": [
    "## Создание таблицы со всеми записями из jsonов\n",
    "Эта таблица была взята за основу всей дальнешей работы, впоследствии все преобразования проводились на данных из неё"
   ]
  },
  {
   "cell_type": "code",
   "execution_count": 2,
   "metadata": {},
   "outputs": [],
   "source": [
    "ofile_path = 'data/ods_slack_all.csv'"
   ]
  },
  {
   "cell_type": "markdown",
   "metadata": {},
   "source": [
    "#### Таблица со всеми записями"
   ]
  },
  {
   "cell_type": "code",
   "execution_count": 3,
   "metadata": {},
   "outputs": [
    {
     "output_type": "stream",
     "name": "stdout",
     "text": "lang_go 54\n_meetings_dv 54\nproj_kaggle_quest_challenge 20\n_meetings_live 382\nproj_kaggle_elo_merch 48\nproj_yt8m 73\ngis 390\nproj_geohack 25\nproj_kaggle_talkdata 63\ntool_dvc 113\nengineering-hiring 16\nproj_retailhero 27\ndeep_learning 1605\nods_podcast 5\nproj_nips_traffic 5\nods_sport 513\n_meetings_norge 156\nclass_cs224n 1\n_meetings_spb 1121\ngan 8\nchess 159\nproj_kaggle_fish 212\nproj_kaggle_airbus 78\nsberbank_contest 398\nproj_kaggle_bengali_classification 6\nods_policy_prior 17\n_top_science 9\nblackoxchallenge 4\nedu_courses 1433\nclass_udacity_pytorch 103\n_random_politics 416\nedu_course_pgm 80\nods_site 108\nproj_nips_autodl 4\nblockchain 622\n_meetings_minsk 499\n_random_talks 1733\nproj_kaggle_quickdraw 39\nucuracy_trainings 45\nproj_kaggle_fashion 38\nbig_data 1201\nmeeting_nsfw_icml 27\nods_travel 93\nproj_kaggle_petfinder 57\nneurohack_heart 32\nproj_comp_workshop 95\nidrnd_challenge 44\nods_crowd 25\n_meetings 1596\n_meetings_tbilisi 18\nsandbox 1\nproj_kaggle_trackml 28\nnlp 1438\nproj_home_credit 71\nneuroscience 140\nproj_spacy_ru 56\nclass_cs224w 97\nproj_kaggle_champs 90\nods_purgatory 3\nproj_kaggle_fgvc6 50\n_general 420\nproj_kaggle_quora_qs 191\nhackathon 4\ntool_albumentations 212\nproj_kaggle_recruit 30\n_meetings_ca 99\nproj_classic_ai 41\nproj_signate 10\nsecurity 114\nkaggle_dsg 58\nkaggle_expedia_hotel 78\nai_ethics 35\nproj_kaggle_santa 54\nproj_ods_introspect 156\ndev_bot_test 10\nproj_fakenewschalleng 44\n_meetings_boardgames 86\nproj_nghack2019 13\ntst_remove 1\nproj_dota2 192\nclass_coursera_aml 98\nproj_acm_recsys 5\norg_nips_goldi 14\nproj_safe_driver 53\nproj_topcoder 155\n_meetings_nn 51\n_meetings_kgd 363\nproj_kaggle_cervix 84\nsatellite_imaging 545\ndata_fest 394\nlooking_for_a_job 247\nods_code_review 8\nproj_poker 19\norg_hse_projects 23\nods_datasets 22\nwhateverhack 8\nproj_mcs_challenge 1\nproj_freesound_2019 28\nproj_kaggle_fraud 70\nrandomcoffee 177\ndlcourse_ai 198\n_jobs_hr 90\nproj_kaggle_ga 64\nproj_rosbank 61\n_meetings_nl 158\n_meetings_siberia 687\ntool_catalyst 270\ndeephack 528\nnetwork_analysis 274\nods_challenges 6\nproj_kaggle_avito 69\nproj_punch_to_face 148\n_top_jobs 43\nproj_signate_cars 20\nproj_kaggle_gan 35\nproj_kaggle_camera 61\nlang_lua_torch 60\nods_habr 539\n_meetings_ekb 127\nmlcourse_ai_news 871\nspark 2\nods_pet_projects 88\n_top_events 10\nproj_kaggle_blindness 54\nproj_bytecup2018 7\nkaggle_crackers 1429\nproj_ds_bowl2018 110\nproj_nips_comp_19 24\nproj_procurement_shr 3\ncft_contest 22\nkaggle_avito_2017 145\nmeetings_spb 1\n_meetings_nyc 220\nproj_kaggle_pronoun 25\ncloud 525\ntrading 776\npicsartaihack 27\nclass_cs231n 314\n_meetings_israel 82\ngett_mck_bigdata_hack 7\n_meetings_france 172\nods_editors 11\nproj_wildfire 49\nproj_drivendata 28\ndata_labeling 13\ntool_eli5 11\n_meetings_de 484\ntool_deeppavlov 55\nods_social 51\nbaai 8\nproj_kaggle_pneumonia 102\ncv 815\nwelcome 1262\nods_resume_mastering 369\nslack-slack 20\nproj_restrserve 141\ntool_arboretum 3\nmltrainings_beginners 1138\nedu_academy 588\nproj_kaggle_santander 109\nedu_books 807\nspacehack 16\n_meetings_kzn 14\n_random_b 645\n_meetings_tomsk 50\nproj_nexar2 51\n_meetings_china 24\nhardware 1150\nconsulting 12\ntool_ebonite 8\nproj_kaggle_nfl 34\nstack_overflow 1057\nrecsys2017 51\nmltrainings_live 578\ninteresting_links 1570\n_meetings_ukraine 519\n_meetings_sochi 12\nods_sport_sf 102\n_meetings_md 36\nproj_drivendata_chimp 30\ntool_segmentation 8\nproj_kaggle_cdiscount 76\nproj_kaggle_deepfake 20\nproj_gensim 22\n_meetings_dubai 50\nteal_practices_cases 9\nproj_kaggle_salt 107\naudio_and_speech 176\nrisk_modelling 35\n_meetings_us 165\nproj_kaggle_lyft 76\nproj_kaggle_plasticc 38\ndeep 1\npr_jerk 369\nesports 25\nproj_kaggle_jigsaw 125\nlang_javascript 80\nlang_python 1584\narticle_essence 357\nex_cad 3\nods_mentoring 84\nself_driving 399\nproj_kekas 1\nbioinformatics 261\ntool_kaos 16\nrecommender_systems 455\n_top_projects 8\n_top_talks 18\n_meetings_fi 86\nmlcourse_ai_rus 199\nwork 6\nz_bots 12\nproj_zillow 45\nproj_kaggle_protein 108\nproj_idao_2019 7\nindustrial_ds 10\nproj_kaggle_instacart 44\ntheory_and_practice 1606\ndata_breakfast 316\nproj_msft_malware 53\nproj_snahackathon 14\nlang_julia 93\ntool_catboost 142\ndevops 864\nproj_jet_raif2018 5\nproj_dsbowl_2017 77\nproj_kaggle_vsb_power 36\njobs 2\nюла_ods 12\n_meetings_barnaul 24\negor_and_notabene 1\nproj_tinkoff 23\n_meetings_ulsk 29\nproj_kaggle_statoil 49\nconference 787\nalexyashadasha 1\nfnbic_neural_networks 36\nedu_shad_exams 247\ntraiding 2\ndatasets 1298\nproj_telecom_data_cup 17\nods-digests 1\n_meetings_chel 23\nproj_kaggle_landmark 67\nuku 3\nclass_fast_ai 1\noptimization 4\nproj_dsbowl_2019 55\npydata 119\nproj_zindi 24\nbots 487\ntool_kekas 17\nlang_cpp 279\ncareer 1339\nods_merch 140\n_call_4_collaboration 943\nedu_dsclub_spb 52\nproj_kaggle_speech 41\nproj_benchr 94\nproj_kaggle_inst_grat 40\n_meetings_seattle 44\nproj_nips_causal 22\nods_sky_sport 35\nminsk_2018_travel 26\nwriting_n_presenting 53\n_meetings_smr 134\n_meetings_perm 46\nclass_ium_2019 15\nnovosibirsk 1\nmath 479\nproj_algo_alice 34\nproj_kaggle_cars 136\n___top_links 7\n_meetings_nsfw 376\nclass_dl_cmu 290\nml_pipeline 299\nproj_kaggle_lanl 50\nproj_kaggle_hemorrhage 45\nlang_r 1379\nsequences_series 380\nreinforcement_learning 752\nvisualization 1310\nbayesian 443\ntrue_story 31\nds_process 80\n_meetings_omsk 42\nmlcourse_ai 552\n_jobs_academy_phd 72\nproj_kaggle_tf2_question_ans 42\nmedicine 393\nproj_sibur_challenge 12\n_meetings_sf 921\n_general_en 149\nlang_scala 162\ngnomiki 512\nquantum_computing 57\nclass_fastai 201\nwasdas 3\ndata_elka_24_decembe 1\n_meetings_ch 8\nml4sg 58\nproj_mercari 76\nproj_gold_miners 5\n_call_4_collaboratio 2\nproj_kaggle_inclusive 22\nrnn 2\nproj_kaggle_severstal 63\nods_digests 33\nproj_kaggle_openimage 72\nbusiness 682\nproj_kaggle_energy 50\n_meetings_uk 178\n_jobs 1542\nshow_your_work 241\nproj_kaggle_2sigma 76\n"
    }
   ],
   "source": [
    "import glob\n",
    "idir = 'opendatascience Slack export Mar 12 2015 - Jan 14 2020'\n",
    "lines = []\n",
    "for channel_dir in glob.glob(f'{idir}/*'):\n",
    "    channel_files = glob.glob(f'{channel_dir}/*.json')\n",
    "    channel = os.path.basename(channel_dir)\n",
    "    print(channel, len(channel_files))\n",
    "    for ifile_path in channel_files:\n",
    "        with open(ifile_path, encoding='utf-8') as ifile:\n",
    "            data_json_list = json.load(ifile)\n",
    "            data_json_new_list = []\n",
    "            for x in data_json_list:\n",
    "                x['channel'] = channel\n",
    "                data_json_new_list.append(x)\n",
    "            lines.extend(data_json_new_list)\n",
    "df = pd.DataFrame(lines)\n",
    "df.to_csv(ofile_path, encoding='utf-8')"
   ]
  },
  {
   "cell_type": "code",
   "execution_count": 3,
   "metadata": {},
   "outputs": [],
   "source": [
    "df = pd.read_csv(ofile_path, dtype={'ts': str})\n",
    "df['user_ts'] = df.apply(lambda x: f\"{x['user']}_{x['ts']}\", axis=1)\n",
    "df.index = df['user_ts']\n",
    "df_reply = df.query('reply_count > 0')\n",
    "df_reply = df_reply[df_reply['subtype'].isna()]"
   ]
  },
  {
   "cell_type": "code",
   "execution_count": 4,
   "metadata": {
    "tags": [
     "outputPrepend"
    ]
   },
   "outputs": [
    {
     "output_type": "stream",
     "name": "stderr",
     "text": "NE', 'ts': '1497801837.140618'}\n{'user': 'B597E8DNE', 'ts': '1497801838.140674'}\n{'user': 'B597E8DNE', 'ts': '1497801838.140700'}\n  1%|          | 959/82727 [02:55<4:32:49,  5.00it/s]{'user': 'B597E8DNE', 'ts': '1494948535.531391'}\n  1%|          | 962/82727 [02:55<3:42:59,  6.11it/s]{'user': 'B597E8DNE', 'ts': '1500642047.088767'}\n{'user': 'B597E8DNE', 'ts': '1500672257.500737'}\n{'user': 'B597E8DNE', 'ts': '1500672257.500939'}\n{'user': 'B597E8DNE', 'ts': '1500672257.501055'}\n  1%|          | 1009/82727 [03:10<8:50:41,  2.57it/s]{'user': 'B597E8DNE', 'ts': '1499769598.662661'}\n{'user': 'B597E8DNE', 'ts': '1499769599.662918'}\n{'user': 'B597E8DNE', 'ts': '1499769680.688748'}\n  1%|▏         | 1112/82727 [03:30<3:39:32,  6.20it/s]{'user': 'B597E8DNE', 'ts': '1503303452.000342'}\n{'user': 'B597E8DNE', 'ts': '1503303453.000238'}\n{'user': 'B597E8DNE', 'ts': '1503303454.000178'}\n{'user': 'B597E8DNE', 'ts': '1503324283.000782'}\n{'user': 'B597E8DNE', 'ts': '1503324285.000316'}\n  2%|▏         | 1475/82727 [04:54<6:00:56,  3.75it/s]{'user': 'B597E8DNE', 'ts': '1498644382.815159'}\n{'user': 'B597E8DNE', 'ts': '1498644383.815451'}\n{'user': 'B597E8DNE', 'ts': '1498644384.815643'}\n  2%|▏         | 1536/82727 [05:12<6:49:04,  3.31it/s]{'user': 'B597E8DNE', 'ts': '1502126717.173100'}\n  2%|▏         | 1619/82727 [05:30<3:44:34,  6.02it/s]{'user': 'B597E8DNE', 'ts': '1497621053.369350'}\n{'user': 'B597E8DNE', 'ts': '1497621054.369701'}\n{'user': 'B597E8DNE', 'ts': '1497621055.369918'}\n  2%|▏         | 1622/82727 [05:31<5:06:14,  4.41it/s]{'user': 'B597E8DNE', 'ts': '1516099080.000397'}\n{'user': 'B597E8DNE', 'ts': '1516099081.000264'}\n{'user': 'B597E8DNE', 'ts': '1516099082.000066'}\n  2%|▏         | 1990/82727 [06:59<5:09:37,  4.35it/s]{'user': 'B597E8DNE', 'ts': '1514975388.000184'}\n{'user': 'B597E8DNE', 'ts': '1514975389.000238'}\n{'user': 'B597E8DNE', 'ts': '1514975390.000139'}\n  3%|▎         | 2186/82727 [07:44<3:00:57,  7.42it/s]{'user': 'B597E8DNE', 'ts': '1497385752.239568'}\n{'user': 'B597E8DNE', 'ts': '1497385753.239826'}\n{'user': 'B597E8DNE', 'ts': '1497385754.239959'}\n{'user': 'B597E8DNE', 'ts': '1497385758.241391'}\n  3%|▎         | 2194/82727 [07:46<3:34:39,  6.25it/s]{'user': 'B597E8DNE', 'ts': '1510946507.000277'}\n  3%|▎         | 2215/82727 [07:53<5:00:16,  4.47it/s]{'user': 'B597E8DNE', 'ts': '1505384277.000244'}\n{'user': 'B597E8DNE', 'ts': '1505384278.000108'}\n{'user': 'B597E8DNE', 'ts': '1505384278.000247'}\n  3%|▎         | 2220/82727 [07:54<5:22:16,  4.16it/s]{'user': 'B597E8DNE', 'ts': '1505410046.000462'}\n{'user': 'B597E8DNE', 'ts': '1505410047.000488'}\n{'user': 'B597E8DNE', 'ts': '1505410047.000770'}\n  3%|▎         | 2463/82727 [08:53<4:25:55,  5.03it/s]{'user': 'B597E8DNE', 'ts': '1500039724.406794'}\n{'user': 'B597E8DNE', 'ts': '1500039725.407013'}\n{'user': 'B597E8DNE', 'ts': '1500039725.407180'}\n  3%|▎         | 2492/82727 [09:03<4:41:30,  4.75it/s]{'user': 'B597E8DNE', 'ts': '1510753798.000465'}\n{'user': 'B597E8DNE', 'ts': '1510753799.000354'}\n{'user': 'B597E8DNE', 'ts': '1510753800.000258'}\n  3%|▎         | 2620/82727 [09:31<6:48:37,  3.27it/s]{'user': 'B597E8DNE', 'ts': '1509557684.000533'}\n{'user': 'B597E8DNE', 'ts': '1509557686.000406'}\n{'user': 'B597E8DNE', 'ts': '1509557687.000240'}\n  3%|▎         | 2853/82727 [10:31<3:45:35,  5.90it/s]{'user': 'B597E8DNE', 'ts': '1504554196.000026'}\n{'user': 'B597E8DNE', 'ts': '1504554196.000175'}\n{'user': 'B597E8DNE', 'ts': '1504554197.000051'}\n  4%|▎         | 2955/82727 [12:16<48:31:14,  2.19s/it]{'user': 'B597E8DNE', 'ts': '1505257984.000090'}\n  4%|▍         | 3236/82727 [13:41<4:33:17,  4.85it/s]{'user': 'B597E8DNE', 'ts': '1516024703.000073'}\n{'user': 'B597E8DNE', 'ts': '1516024704.000069'}\n{'user': 'B597E8DNE', 'ts': '1516024704.000308'}\n  4%|▍         | 3341/82727 [14:11<3:09:31,  6.98it/s]{'user': 'B597E8DNE', 'ts': '1504873241.000053'}\n{'user': 'B597E8DNE', 'ts': '1504873242.000213'}\n{'user': 'B597E8DNE', 'ts': '1504873242.000408'}\n  4%|▍         | 3403/82727 [14:26<4:19:57,  5.09it/s]{'user': 'B597E8DNE', 'ts': '1497952743.720863'}\n  4%|▍         | 3407/82727 [14:27<4:47:21,  4.60it/s]{'user': 'B597E8DNE', 'ts': '1497963062.190537'}\n  4%|▍         | 3441/82727 [14:33<3:24:10,  6.47it/s]{'user': 'B597E8DNE', 'ts': '1500544016.696746'}\n{'user': 'B597E8DNE', 'ts': '1500544017.696953'}\n{'user': 'B597E8DNE', 'ts': '1500544017.697137'}\n{'user': 'B597E8DNE', 'ts': '1500551042.991988'}\n  4%|▍         | 3665/82727 [15:24<5:26:14,  4.04it/s]{'user': 'B597E8DNE', 'ts': '1502896086.000817'}\n{'user': 'B597E8DNE', 'ts': '1502896137.000378'}\n{'user': 'B597E8DNE', 'ts': '1502896138.000618'}\n  4%|▍         | 3669/82727 [15:24<3:40:09,  5.98it/s]{'user': 'B597E8DNE', 'ts': '1502896139.000157'}\n  5%|▍         | 3913/82727 [16:23<4:04:32,  5.37it/s]{'user': 'B597E8DNE', 'ts': '1498830767.347242'}\n{'user': 'B597E8DNE', 'ts': '1498830768.347677'}\n{'user': 'B597E8DNE', 'ts': '1498830769.347915'}\n{'user': 'B597E8DNE', 'ts': '1498831770.744093'}\n{'user': 'B597E8DNE', 'ts': '1498831771.744538'}\n  5%|▍         | 3915/82727 [16:23<3:49:08,  5.73it/s]{'user': 'B597E8DNE', 'ts': '1498831772.744725'}\n  5%|▍         | 3916/82727 [16:23<3:43:47,  5.87it/s]{'user': 'B597E8DNE', 'ts': '1498832447.008436'}\n{'user': 'B597E8DNE', 'ts': '1498832449.008819'}\n{'user': 'B597E8DNE', 'ts': '1498832449.008990'}\n  5%|▍         | 4073/82727 [17:08<4:43:10,  4.63it/s]{'user': 'B597E8DNE', 'ts': '1500955033.770884'}\n  5%|▍         | 4093/82727 [17:12<4:37:18,  4.73it/s]{'user': 'B597E8DNE', 'ts': '1500799603.943447'}\n{'user': 'B597E8DNE', 'ts': '1500799604.943485'}\n{'user': 'B597E8DNE', 'ts': '1500799604.943498'}\n  5%|▌         | 4217/82727 [17:48<5:33:06,  3.93it/s]{'user': 'B597E8DNE', 'ts': '1498567170.398929'}\n{'user': 'B597E8DNE', 'ts': '1498567171.399245'}\n{'user': 'B597E8DNE', 'ts': '1498567172.399420'}\n  5%|▌         | 4377/82727 [18:28<3:58:09,  5.48it/s]{'user': 'B597E8DNE', 'ts': '1494942043.640148'}\n{'user': 'B597E8DNE', 'ts': '1494942044.640412'}\n{'user': 'B597E8DNE', 'ts': '1494942075.652982'}\n{'user': 'B597E8DNE', 'ts': '1494942076.653209'}\n  5%|▌         | 4399/82727 [18:34<3:10:04,  6.87it/s]{'user': 'B597E8DNE', 'ts': '1511116717.000049'}\n{'user': 'B597E8DNE', 'ts': '1511116719.000030'}\n{'user': 'B597E8DNE', 'ts': '1511116719.000077'}\n  5%|▌         | 4457/82727 [19:23<5:26:00,  4.00it/s]{'user': 'B597E8DNE', 'ts': '1507105752.000287'}\n{'user': 'B597E8DNE', 'ts': '1507105754.000014'}\n{'user': 'B597E8DNE', 'ts': '1507105754.000446'}\n  5%|▌         | 4464/82727 [19:27<11:52:12,  1.83it/s]{'user': 'B597E8DNE', 'ts': '1507151448.000396'}\n{'user': 'B597E8DNE', 'ts': '1507151450.000106'}\n{'user': 'B597E8DNE', 'ts': '1507151450.000409'}\n  6%|▌         | 4667/82727 [20:21<4:20:26,  5.00it/s]{'user': 'B597E8DNE', 'ts': '1512590602.000190'}\n{'user': 'B597E8DNE', 'ts': '1512590602.000772'}\n{'user': 'B597E8DNE', 'ts': '1512590603.000235'}\n  6%|▌         | 4734/82727 [20:38<4:46:03,  4.54it/s]{'user': 'B597E8DNE', 'ts': '1496657468.628996'}\n{'user': 'B597E8DNE', 'ts': '1496657469.629164'}\n{'user': 'B597E8DNE', 'ts': '1496657470.629339'}\n{'user': 'B597E8DNE', 'ts': '1496657710.673999'}\n{'user': 'B597E8DNE', 'ts': '1496657711.674220'}\n  6%|▌         | 4736/82727 [20:38<3:56:11,  5.50it/s]{'user': 'B597E8DNE', 'ts': '1496657711.674304'}\n  6%|▌         | 4862/82727 [21:13<28:44:31,  1.33s/it]{'user': 'B597E8DNE', 'ts': '1503151963.000022'}\n{'user': 'B597E8DNE', 'ts': '1503151964.000002'}\n{'user': 'B597E8DNE', 'ts': '1503151965.000014'}\n  6%|▌         | 5095/82727 [22:09<3:40:57,  5.86it/s]{'user': 'B597E8DNE', 'ts': '1496144343.406240'}\n{'user': 'B597E8DNE', 'ts': '1496144345.406420'}\n{'user': 'B597E8DNE', 'ts': '1496144345.406505'}\n  6%|▋         | 5231/82727 [22:45<3:57:06,  5.45it/s]{'user': 'B597E8DNE', 'ts': '1504547142.000093'}\n  6%|▋         | 5313/82727 [23:08<4:39:53,  4.61it/s]{'user': 'B597E8DNE', 'ts': '1499332482.566394'}\n{'user': 'B597E8DNE', 'ts': '1499332484.566828'}\n{'user': 'B597E8DNE', 'ts': '1499332484.567068'}\n{'user': 'B597E8DNE', 'ts': '1499334385.287442'}\n{'user': 'B597E8DNE', 'ts': '1499334388.288384'}\n  6%|▋         | 5315/82727 [23:09<3:56:03,  5.47it/s]{'user': 'B597E8DNE', 'ts': '1499334469.318236'}\n{'user': 'B597E8DNE', 'ts': '1499338363.617864'}\n  7%|▋         | 5386/82727 [23:28<7:16:02,  2.96it/s]{'user': 'B597E8DNE', 'ts': '1501915130.330006'}\n  7%|▋         | 5405/82727 [23:35<7:24:27,  2.90it/s]{'user': 'B597E8DNE', 'ts': '1497710660.906616'}\n  7%|▋         | 5441/82727 [23:45<13:20:31,  1.61it/s]{'user': 'B597E8DNE', 'ts': '1514400467.000012'}\n  7%|▋         | 5493/82727 [24:41<6:32:53,  3.28it/s]{'user': 'B597E8DNE', 'ts': '1499845826.222972'}\n{'user': 'B597E8DNE', 'ts': '1499845827.223140'}\n{'user': 'B597E8DNE', 'ts': '1499845828.223435'}\n 13%|█▎        | 11017/82727 [47:47<3:51:19,  5.17it/s]{'user': 'B597E8DNE', 'ts': '1508140483.000221'}\n 14%|█▎        | 11244/82727 [49:03<7:14:26,  2.74it/s]{'user': 'B597E8DNE', 'ts': '1500645259.246407'}\n 14%|█▎        | 11275/82727 [49:23<6:32:33,  3.03it/s]{'user': 'B597E8DNE', 'ts': '1511954496.000189'}\n 14%|█▍        | 11478/82727 [50:32<9:42:36,  2.04it/s]{'user': 'B597E8DNE', 'ts': '1501943891.962398'}\n{'user': 'B597E8DNE', 'ts': '1501943891.962432'}\n{'user': 'B597E8DNE', 'ts': '1501943892.962447'}\n 14%|█▍        | 11807/82727 [51:56<4:03:27,  4.85it/s]{'user': 'B597E8DNE', 'ts': '1513638364.000350'}\n 15%|█▌        | 12770/82727 [56:31<3:11:05,  6.10it/s]{'user': 'B597E8DNE', 'ts': '1514126906.000032'}\n 16%|█▌        | 12948/82727 [57:27<3:34:08,  5.43it/s]{'user': 'B597E8DNE', 'ts': '1506611595.000399'}\n 16%|█▌        | 13017/82727 [57:49<3:03:56,  6.32it/s]{'user': 'B597E8DNE', 'ts': '1501580207.401987'}\n 16%|█▌        | 13020/82727 [57:49<2:21:14,  8.23it/s]{'user': 'B597E8DNE', 'ts': '1501582313.170171'}\n 17%|█▋        | 13755/82727 [1:01:02<5:08:44,  3.72it/s]{'user': 'B597E8DNE', 'ts': '1500041861.036330'}\n{'user': 'B597E8DNE', 'ts': '1500041923.069632'}\n{'user': 'B597E8DNE', 'ts': '1500041973.097580'}\n{'user': 'B597E8DNE', 'ts': '1500041990.106352'}\n{'user': 'B597E8DNE', 'ts': '1500042031.129103'}\n{'user': 'B597E8DNE', 'ts': '1500042068.149534'}\n{'user': 'B597E8DNE', 'ts': '1500042094.164577'}\n 17%|█▋        | 13758/82727 [1:01:04<12:28:27,  1.54it/s]{'user': 'B597E8DNE', 'ts': '1500042369.319084'}\n{'user': 'B597E8DNE', 'ts': '1500042395.333445'}\n{'user': 'B597E8DNE', 'ts': '1500042388.330004'}\n 17%|█▋        | 13762/82727 [1:01:06<9:08:05,  2.10it/s]{'user': 'B597E8DNE', 'ts': '1500043459.936281'}\n{'user': 'B597E8DNE', 'ts': '1500045031.861518'}\n{'user': 'B597E8DNE', 'ts': '1500045620.193495'}\n 17%|█▋        | 13766/82727 [1:01:06<5:12:23,  3.68it/s]{'user': 'B597E8DNE', 'ts': '1500045677.226090'}\n{'user': 'B597E8DNE', 'ts': '1500045758.271569'}\n{'user': 'B597E8DNE', 'ts': '1500046620.768509'}\n{'user': 'B597E8DNE', 'ts': '1500055382.370360'}\n{'user': 'B597E8DNE', 'ts': '1500046681.802817'}\n 17%|█▋        | 13770/82727 [1:01:07<3:57:35,  4.84it/s]{'user': 'B597E8DNE', 'ts': '1500046831.887851'}\n{'user': 'B597E8DNE', 'ts': '1500047007.986729'}\n{'user': 'B597E8DNE', 'ts': '1500047059.015487'}\n 17%|█▋        | 13772/82727 [1:01:07<3:13:52,  5.93it/s]{'user': 'B597E8DNE', 'ts': '1500047235.113426'}\n{'user': 'B597E8DNE', 'ts': '1500047429.222665'}\n{'user': 'B597E8DNE', 'ts': '1500047522.276217'}\n 17%|█▋        | 13775/82727 [1:01:07<2:58:32,  6.44it/s]{'user': 'B597E8DNE', 'ts': '1500048025.570259'}\n{'user': 'B597E8DNE', 'ts': '1500048101.616454'}\n{'user': 'B597E8DNE', 'ts': '1500048205.674152'}\n{'user': 'B597E8DNE', 'ts': '1500048719.948231'}\n{'user': 'B597E8DNE', 'ts': '1500048720.948579'}\n{'user': 'B597E8DNE', 'ts': '1500048743.960793'}\n 17%|█▋        | 13777/82727 [1:01:08<2:59:24,  6.41it/s]{'user': 'B597E8DNE', 'ts': '1500048744.961168'}\n{'user': 'B597E8DNE', 'ts': '1500052732.003897'}\n{'user': 'B597E8DNE', 'ts': '1500052733.004448'}\n{'user': 'B597E8DNE', 'ts': '1500052743.009311'}\n 17%|█▋        | 13779/82727 [1:01:08<3:11:29,  6.00it/s]{'user': 'B597E8DNE', 'ts': '1500052744.009604'}\n{'user': 'B597E8DNE', 'ts': '1500053800.546629'}\n{'user': 'B597E8DNE', 'ts': '1500053800.546921'}\n{'user': 'B597E8DNE', 'ts': '1500053826.559360'}\n 17%|█▋        | 13781/82727 [1:01:08<2:32:33,  7.53it/s]{'user': 'B597E8DNE', 'ts': '1500053860.576277'}\n 17%|█▋        | 14447/82727 [1:04:12<3:11:34,  5.94it/s]{'user': 'B597E8DNE', 'ts': '1515672956.000278'}\n{'user': 'B597E8DNE', 'ts': '1515672965.000098'}\n{'user': 'B597E8DNE', 'ts': '1515672969.000167'}\n 18%|█▊        | 14731/82727 [1:05:12<7:09:56,  2.64it/s]{'user': 'B597E8DNE', 'ts': '1510354298.000221'}\n{'user': 'B597E8DNE', 'ts': '1510354300.000003'}\n{'user': 'B597E8DNE', 'ts': '1510354308.000023'}\n{'user': 'B597E8DNE', 'ts': '1510354308.000230'}\n{'user': 'B597E8DNE', 'ts': '1510354318.000265'}\n{'user': 'B597E8DNE', 'ts': '1510354319.000137'}\n{'user': 'B597E8DNE', 'ts': '1510354364.000082'}\n{'user': 'B597E8DNE', 'ts': '1510354365.000174'}\n 18%|█▊        | 14735/82727 [1:05:13<5:23:25,  3.50it/s]{'user': 'B597E8DNE', 'ts': '1510388412.000020'}\n{'user': 'B597E8DNE', 'ts': '1510388413.000081'}\n 19%|█▊        | 15463/82727 [1:08:57<5:25:10,  3.45it/s]{'user': 'B597E8DNE', 'ts': '1502703256.243899'}\n 19%|█▉        | 15933/82727 [1:10:58<4:26:21,  4.18it/s]{'user': 'B597E8DNE', 'ts': '1510222280.000451'}\n{'user': 'B597E8DNE', 'ts': '1510222282.000424'}\n 20%|█▉        | 16304/82727 [1:12:34<3:41:19,  5.00it/s]{'user': 'B597E8DNE', 'ts': '1500907935.214872'}\n 20%|█▉        | 16310/82727 [1:12:35<2:19:33,  7.93it/s]{'user': 'B597E8DNE', 'ts': '1500914762.375426'}\n 20%|█▉        | 16503/82727 [1:13:20<3:08:46,  5.85it/s]{'user': 'B597E8DNE', 'ts': '1515080259.000412'}\n{'user': 'B597E8DNE', 'ts': '1515080333.000678'}\n 20%|██        | 16583/82727 [1:14:07<5:14:52,  3.50it/s]{'user': 'B597E8DNE', 'ts': '1500372289.248424'}\n 20%|██        | 16588/82727 [1:14:08<4:34:22,  4.02it/s]{'user': 'B597E8DNE', 'ts': '1500377353.844170'}\n 20%|██        | 16826/82727 [1:14:54<2:08:16,  8.56it/s]{'user': 'B597E8DNE', 'ts': '1494968020.139121'}\n{'user': 'B597E8DNE', 'ts': '1494968020.139419'}\n{'user': 'B597E8DNE', 'ts': '1494968024.141174'}\n{'user': 'B597E8DNE', 'ts': '1494968054.155170'}\n 20%|██        | 16834/82727 [1:14:57<4:23:46,  4.16it/s]{'user': 'B597E8DNE', 'ts': '1501414242.806043'}\n 21%|██        | 17376/82727 [1:17:40<5:11:32,  3.50it/s]{'user': 'B597E8DNE', 'ts': '1502821908.000284'}\n 21%|██▏       | 17665/82727 [1:18:42<5:26:39,  3.32it/s]{'user': 'B597E8DNE', 'ts': '1515913608.000032'}\n{'user': 'B597E8DNE', 'ts': '1515913609.000011'}\n 22%|██▏       | 18335/82727 [1:22:04<6:49:04,  2.62it/s]{'user': 'B597E8DNE', 'ts': '1501147755.458598'}\n 22%|██▏       | 18546/82727 [1:22:59<2:09:14,  8.28it/s]{'user': 'B597E8DNE', 'ts': '1499334739.827652'}\n{'user': 'B597E8DNE', 'ts': '1499334899.886141'}\n{'user': 'B597E8DNE', 'ts': '1499335014.928300'}\n{'user': 'B597E8DNE', 'ts': '1499335260.020001'}\n{'user': 'B597E8DNE', 'ts': '1499338541.060391'}\n{'user': 'B597E8DNE', 'ts': '1499338569.068291'}\n{'user': 'B597E8DNE', 'ts': '1499338608.079574'}\n{'user': 'B597E8DNE', 'ts': '1499338649.091578'}\n{'user': 'B597E8DNE', 'ts': '1499338688.102922'}\n{'user': 'B597E8DNE', 'ts': '1499338712.110564'}\n{'user': 'B597E8DNE', 'ts': '1499338714.111056'}\n{'user': 'B597E8DNE', 'ts': '1499338964.190535'}\n{'user': 'B597E8DNE', 'ts': '1499338965.190998'}\n 22%|██▏       | 18548/82727 [1:23:01<4:58:50,  3.58it/s]{'user': 'B597E8DNE', 'ts': '1499338994.199802'}\n{'user': 'B597E8DNE', 'ts': '1499339083.227551'}\n 23%|██▎       | 18720/82727 [1:23:43<4:21:42,  4.08it/s]{'user': 'B597E8DNE', 'ts': '1501839463.177103'}\n 23%|██▎       | 18870/82727 [1:24:35<7:02:36,  2.52it/s]{'user': 'B597E8DNE', 'ts': '1499846383.722654'}\n{'user': 'B597E8DNE', 'ts': '1499846439.745009'}\n 23%|██▎       | 18872/82727 [1:24:35<7:04:19,  2.51it/s]{'user': 'B597E8DNE', 'ts': '1499847116.977136'}\n{'user': 'B597E8DNE', 'ts': '1499847131.982193'}\n{'user': 'B597E8DNE', 'ts': '1499847146.987482'}\n{'user': 'B597E8DNE', 'ts': '1499847157.991209'}\n{'user': 'B597E8DNE', 'ts': '1499847164.993903'}\n{'user': 'B597E8DNE', 'ts': '1499847247.023030'}\n{'user': 'B597E8DNE', 'ts': '1499847248.023275'}\n{'user': 'B597E8DNE', 'ts': '1499847267.030049'}\n{'user': 'B597E8DNE', 'ts': '1499847305.043235'}\n{'user': 'B597E8DNE', 'ts': '1499847307.043924'}\n{'user': 'B597E8DNE', 'ts': '1499847339.055472'}\n{'user': 'B597E8DNE', 'ts': '1499847354.061058'}\n{'user': 'B597E8DNE', 'ts': '1499847371.066983'}\n{'user': 'B597E8DNE', 'ts': '1499847405.079325'}\n{'user': 'B597E8DNE', 'ts': '1499847433.088842'}\n{'user': 'B597E8DNE', 'ts': '1499847437.090627'}\n{'user': 'B597E8DNE', 'ts': '1499847442.092520'}\n{'user': 'B597E8DNE', 'ts': '1499847452.096146'}\n{'user': 'B597E8DNE', 'ts': '1499847514.118247'}\n{'user': 'B597E8DNE', 'ts': '1499847595.147267'}\n{'user': 'B597E8DNE', 'ts': '1499847610.153367'}\n{'user': 'B597E8DNE', 'ts': '1499847620.157372'}\n 23%|██▎       | 18873/82727 [1:24:38<18:27:09,  1.04s/it]{'user': 'B597E8DNE', 'ts': '1499849133.719305'}\n{'user': 'B597E8DNE', 'ts': '1499849134.719757'}\n{'user': 'B597E8DNE', 'ts': '1499848392.439493'}\n{'user': 'B597E8DNE', 'ts': '1499848410.446312'}\n{'user': 'B597E8DNE', 'ts': '1499848509.481569'}\n{'user': 'B597E8DNE', 'ts': '1499848849.610306'}\n{'user': 'B597E8DNE', 'ts': '1499848926.640154'}\n{'user': 'B597E8DNE', 'ts': '1499848927.640531'}\n 23%|██▎       | 18874/82727 [1:24:39<16:28:35,  1.08it/s]{'user': 'B597E8DNE', 'ts': '1499848932.642535'}\n{'user': 'B597E8DNE', 'ts': '1499848932.642704'}\n{'user': 'B597E8DNE', 'ts': '1499848946.648058'}\n 51%|█████     | 42109/82727 [2:45:43<1:26:10,  7.86it/s]{'user': 'U9Z2X31K3', 'ts': '1579069559.007100'}\n{'user': 'U9Z2X31K3', 'ts': '1579069603.007300'}\n 64%|██████▍   | 52995/82727 [3:16:20<4:01:56,  2.05it/s]{'user': 'U8BKBE5MX', 'ts': '1579070202.098300'}\n{'user': 'U3R32B38W', 'ts': '1579070262.098500'}\n{'user': 'U8BKBE5MX', 'ts': '1579070352.098700'}\n{'user': 'U8BKBE5MX', 'ts': '1579070437.098900'}\n 68%|██████▊   | 56415/82727 [3:28:16<1:19:40,  5.50it/s]{'user': 'UAC5MT7TR', 'ts': '1579069268.114900'}\n{'user': 'UAC5MT7TR', 'ts': '1579069323.115200'}\n{'user': 'U509ZR4P8', 'ts': '1579069330.115400'}\n{'user': 'UQRRC9GCD', 'ts': '1579069386.115700'}\n{'user': 'U509ZR4P8', 'ts': '1579069404.115900'}\n 68%|██████▊   | 56416/82727 [3:28:17<3:04:11,  2.38it/s]{'user': 'ULRTEEHT4', 'ts': '1579069458.116100'}\n{'user': 'UQRRC9GCD', 'ts': '1579069458.116300'}\n 80%|████████  | 66480/82727 [4:02:42<34:25,  7.87it/s]{'user': 'B597E8DNE', 'ts': '1514162016.000050'}\n{'user': 'B597E8DNE', 'ts': '1502357028.071990'}\n{'user': 'B597E8DNE', 'ts': '1502357094.095631'}\n{'user': 'B597E8DNE', 'ts': '1502357095.096016'}\n 80%|████████  | 66483/82727 [4:02:43<36:30,  7.42it/s]{'user': 'B597E8DNE', 'ts': '1502357814.349673'}\n{'user': 'B597E8DNE', 'ts': '1502390946.262418'}\n{'user': 'B597E8DNE', 'ts': '1502391019.302687'}\n 80%|████████  | 66488/82727 [4:02:43<24:47, 10.92it/s]{'user': 'B597E8DNE', 'ts': '1498122408.352317'}\n 80%|████████  | 66494/82727 [4:02:43<21:39, 12.49it/s]{'user': 'B597E8DNE', 'ts': '1496836081.306877'}\n{'user': 'B597E8DNE', 'ts': '1507131017.000274'}\n{'user': 'B597E8DNE', 'ts': '1495620664.493491'}\n{'user': 'B597E8DNE', 'ts': '1495670838.142418'}\n{'user': 'B597E8DNE', 'ts': '1495907521.349302'}\n{'user': 'B597E8DNE', 'ts': '1495907557.351183'}\n{'user': 'B597E8DNE', 'ts': '1495907633.355205'}\n 80%|████████  | 66502/82727 [4:02:44<22:01, 12.28it/s]{'user': 'B597E8DNE', 'ts': '1495554788.821867'}\n{'user': 'B597E8DNE', 'ts': '1504438526.000006'}\n{'user': 'B597E8DNE', 'ts': '1497713266.128173'}\n{'user': 'B597E8DNE', 'ts': '1497713309.130602'}\n 80%|████████  | 66506/82727 [4:02:44<19:06, 14.15it/s]{'user': 'B597E8DNE', 'ts': '1497713368.133980'}\n{'user': 'B597E8DNE', 'ts': '1511706066.000126'}\n{'user': 'B597E8DNE', 'ts': '1511706140.000058'}\n{'user': 'B597E8DNE', 'ts': '1511723207.000068'}\n100%|██████████| 82727/82727 [5:34:22<00:00,  4.12it/s]\nCPU times: user 5h 34min 1s, sys: 10.9 s, total: 5h 34min 11s\nWall time: 5h 34min 22s\n"
    }
   ],
   "source": [
    "%%time\n",
    "def get_msg_ind(repl_msg_dict):\n",
    "    return f\"{repl_msg_dict['user']}_{repl_msg_dict['ts']}\"\n",
    "\n",
    "lines = []\n",
    "#iterate through questions\n",
    "for ind, msg in tqdm(df_reply.iterrows(), total=len(df_reply)):\n",
    "    for repl_msg_dict in eval(msg['replies']):\n",
    "        repl_msg_ind = get_msg_ind(repl_msg_dict)\n",
    "        #search in full dataset\n",
    "        #avoid bots' messages\n",
    "        try:    \n",
    "            repl_msg = df.loc[repl_msg_ind]\n",
    "        except KeyError:\n",
    "            print(repl_msg_dict)\n",
    "            continue\n",
    "        reacts = []\n",
    "        #pass reactions to data if they exist\n",
    "        try:\n",
    "            for react in eval(repl_msg['reactions']):\n",
    "                reacts.append({'name': react['name'], 'count': react['count']})\n",
    "\n",
    "        except TypeError:\n",
    "            reacts = repl_msg['reactions']\n",
    "        lines.append({'channel': msg['channel'], 'question': msg['text'], 'answer': repl_msg['text'], 'reactions': reacts})\n",
    "\n",
    "df_question_answer_text = pd.DataFrame(lines)"
   ]
  },
  {
   "cell_type": "code",
   "execution_count": 5,
   "metadata": {},
   "outputs": [],
   "source": [
    "df_question_answer_text.to_csv('data/qa_pairs.csv', encoding='utf-8')"
   ]
  },
  {
   "cell_type": "code",
   "execution_count": 11,
   "metadata": {},
   "outputs": [],
   "source": [
    "df_question_answer_text.to_parquet('data/qa_pairs.parquet', compression='brotli', index=False)"
   ]
  },
  {
   "cell_type": "markdown",
   "metadata": {},
   "source": [
    "### Парсим вопросы и ответы"
   ]
  },
  {
   "cell_type": "code",
   "execution_count": 2,
   "metadata": {},
   "outputs": [
    {
     "output_type": "stream",
     "name": "stdout",
     "text": "<class 'pandas.core.frame.DataFrame'>\nRangeIndex: 735931 entries, 0 to 735930\nData columns (total 4 columns):\n #   Column     Non-Null Count   Dtype \n---  ------     --------------   ----- \n 0   channel    735931 non-null  object\n 1   question   731435 non-null  object\n 2   answer     732830 non-null  object\n 3   reactions  735931 non-null  object\ndtypes: object(4)\nmemory usage: 22.5+ MB\n"
    }
   ],
   "source": [
    "df = pd.read_parquet('data/qa_pairs.parquet'); df.info()"
   ]
  },
  {
   "cell_type": "code",
   "execution_count": 3,
   "metadata": {},
   "outputs": [
    {
     "output_type": "stream",
     "name": "stdout",
     "text": "<class 'pandas.core.frame.DataFrame'>\nInt64Index: 728406 entries, 0 to 735930\nData columns (total 4 columns):\n #   Column     Non-Null Count   Dtype \n---  ------     --------------   ----- \n 0   channel    728406 non-null  object\n 1   question   728406 non-null  object\n 2   answer     728406 non-null  object\n 3   reactions  728406 non-null  object\ndtypes: object(4)\nmemory usage: 27.8+ MB\n"
    }
   ],
   "source": [
    "df = df.dropna(); df.info()"
   ]
  },
  {
   "cell_type": "markdown",
   "metadata": {},
   "source": [
    "Пробуем отделить знак вопроса от элемента ссылки"
   ]
  },
  {
   "cell_type": "code",
   "execution_count": 4,
   "metadata": {},
   "outputs": [],
   "source": [
    "import re\n",
    "\n",
    "LINK_PATTERN = re.compile('<https?://[^\\\"\\s>]+>')"
   ]
  },
  {
   "cell_type": "code",
   "execution_count": 8,
   "metadata": {},
   "outputs": [
    {
     "output_type": "execute_result",
     "data": {
      "text/plain": "'база действительно классная, но для ее анализа Юрий Евгеньевич применяет простейший PCA, потому что сам он человек не технический; я списался с ним, и он прислал мне эту базу, так что можно напустить на нее любые алгоритмы, начиная с кластеризации и заканчивая не знаю, чем; в общем, кто заинтересовался, пишите мне, устроим мозговой штурм; напоследок, свежее интервью с Юрием Евгеньевичем: ссылка'"
     },
     "metadata": {},
     "execution_count": 8
    }
   ],
   "source": [
    "test_question = 'база действительно классная, но для ее анализа Юрий Евгеньевич применяет простейший PCA, потому что сам он человек не технический; я списался с ним, и он прислал мне эту базу, так что можно напустить на нее любые алгоритмы, начиная с кластеризации и заканчивая не знаю, чем; в общем, кто заинтересовался, пишите мне, устроим мозговой штурм; напоследок, свежее интервью с Юрием Евгеньевичем: <https://www.youtube.com/watch?v=2IXJBu_cAXU>'\n",
    "\n",
    "text = re.sub(LINK_PATTERN, 'ссылка', test_question); text"
   ]
  },
  {
   "cell_type": "code",
   "execution_count": 13,
   "metadata": {},
   "outputs": [
    {
     "output_type": "execute_result",
     "data": {
      "text/plain": "channel                                                  _jobs\nquestion     Всем привет,\\nОбъявление о наборе на PhD, подр...\nanswer       &gt; ML прикладная дисциплина, лучше интернату...\nreactions    [{'name': 'kaggle', 'count': 8}, {'name': 'you...\nName: 728406, dtype: object"
     },
     "metadata": {},
     "execution_count": 13
    }
   ],
   "source": [
    "df.loc[len(df)]"
   ]
  },
  {
   "cell_type": "code",
   "execution_count": 15,
   "metadata": {},
   "outputs": [
    {
     "output_type": "stream",
     "name": "stderr",
     "text": "100%|██████████| 728406/728406 [1:48:23<00:00, 112.00it/s]Количество вопросов уменьшилось на 323102\n\n"
    }
   ],
   "source": [
    "df_mod = pd.DataFrame(columns=df.columns)\n",
    "for i, row in tqdm(df.iterrows(), total=len(df)):\n",
    "    if '?' in re.sub(LINK_PATTERN, 'ссылка', row['question']):\n",
    "        df_mod.loc[len(df_mod)] = row\n",
    "\n",
    "print(f'Количество вопросов уменьшилось на {len(df)-len(df_mod)}')"
   ]
  },
  {
   "cell_type": "code",
   "execution_count": 35,
   "metadata": {},
   "outputs": [
    {
     "output_type": "stream",
     "name": "stdout",
     "text": "<class 'pandas.core.frame.DataFrame'>\nInt64Index: 405304 entries, 0 to 405303\nData columns (total 4 columns):\n #   Column     Non-Null Count   Dtype \n---  ------     --------------   ----- \n 0   channel    405304 non-null  object\n 1   question   405304 non-null  object\n 2   answer     405304 non-null  object\n 3   reactions  405304 non-null  object\ndtypes: object(4)\nmemory usage: 35.5+ MB\n"
    }
   ],
   "source": [
    "df_mod.info()"
   ]
  },
  {
   "cell_type": "code",
   "execution_count": 58,
   "metadata": {},
   "outputs": [
    {
     "output_type": "stream",
     "name": "stdout",
     "text": "career                                66754\n_random_talks                         41052\ndeep_learning                         33058\ntheory_and_practice                   28396\nlang_python                           21082\nmlcourse_ai_news                      20872\nnlp                                   17152\nhardware                              14435\nkaggle_crackers                        8280\nedu_courses                            6665\nods_sport                              6441\nmlcourse_ai                            5811\ndevops                                 5684\nmltrainings_beginners                  5670\n_meetings_sf                           5529\ncv                                     5481\nbig_data                               5441\n_random_b                              5311\ndatasets                               4217\nblockchain                             3667\ngnomiki                                3417\nsatellite_imaging                      3189\nclass_dl_cmu                           2945\nlang_r                                 2810\nvisualization                          2577\ntrading                                2011\nml_pipeline                            1995\nclass_cs231n                           1987\nedu_books                              1976\n_meetings_de                           1964\n_jobs                                  1942\ntool_catalyst                          1779\nods_habr                               1600\nmath                                   1518\nmlcourse_ai_rus                        1512\nedu_academy                            1495\ninteresting_links                      1470\nproj_ds_bowl2018                       1431\nproj_kaggle_salt                       1397\nreinforcement_learning                 1344\ndlcourse_ai                            1330\n_meetings                              1305\n_meetings_spb                          1291\nrecommender_systems                    1287\nproj_kaggle_jigsaw                     1275\ndata_fest                              1151\nsequences_series                       1137\nwelcome                                1115\nproj_kaggle_cars                       1089\nsberbank_contest                       1088\ntool_albumentations                    1079\nproj_kaggle_avito                      1074\n_call_4_collaboration                  1062\nconference                             1054\n_meetings_minsk                         908\ncloud                                   888\ntool_dvc                                887\nself_driving                            872\nmedicine                                832\nods_resume_mastering                    804\nproj_mercari                            784\nbusiness                                781\nproj_kaggle_santander                   771\nproj_topcoder                           698\nproj_kaggle_camera                      680\ngis                                     667\nproj_kaggle_protein                     654\n_meetings_siberia                       651\naudio_and_speech                        629\nbayesian                                613\nlang_cpp                                611\nproj_kaggle_quora_qs                    603\n_meetings_nsfw                          561\n_meetings_kgd                           558\nproj_kaggle_lyft                        553\nproj_kaggle_fish                        523\ndeephack                                517\nclass_fastai                            514\nnetwork_analysis                        506\n_meetings_uk                            491\nproj_kaggle_pneumonia                   445\nproj_kaggle_champs                      433\n_meetings_us                            423\nrandomcoffee                            402\nproj_kaggle_fraud                       399\narticle_essence                         398\n_meetings_norge                         394\nproj_rosbank                            365\nproj_kaggle_cdiscount                   358\nproj_kaggle_fgvc6                       352\n_meetings_ukraine                       350\nproj_kaggle_airbus                      346\nproj_kaggle_ga                          343\n_meetings_ca                            340\nproj_home_credit                        320\nproj_safe_driver                        319\n_meetings_live                          318\nproj_kaggle_inst_grat                   313\nproj_kaggle_talkdata                    310\ntool_catboost                           310\nproj_kaggle_hemorrhage                  301\n_meetings_nl                            296\nds_process                              293\nclass_coursera_aml                      262\nproj_kaggle_statoil                     259\nlang_scala                              257\nods_travel                              252\nproj_kaggle_landmark                    244\n_meetings_nyc                           242\nproj_punch_to_face                      241\nproj_kaggle_quickdraw                   238\ndata_breakfast                          212\nbioinformatics                          206\nclass_udacity_pytorch                   205\nproj_yt8m                               195\nproj_kaggle_petfinder                   195\n_random_politics                        193\nods_sport_sf                            190\nproj_kaggle_severstal                   187\nproj_kaggle_blindness                   183\nods_policy_prior                        182\nproj_kaggle_fashion                     179\nproj_dsbowl_2019                        168\nproj_kaggle_plasticc                    151\nmltrainings_live                        150\nproj_kaggle_elo_merch                   149\nwriting_n_presenting                    148\nproj_kaggle_instacart                   147\nproj_kaggle_tf2_question_ans            145\nproj_nexar2                             145\nedu_shad_exams                          141\nproj_wildfire                           141\nods_merch                               139\nproj_restrserve                         139\nproj_algo_alice                         138\nproj_kaggle_santa                       131\nproj_kaggle_openimage                   129\nsecurity                                129\nproj_comp_workshop                      126\nproj_kaggle_lanl                        121\npicsartaihack                           119\nproj_spacy_ru                           119\n_meetings_smr                           117\nlang_go                                 114\n_meetings_dubai                         113\nproj_kaggle_energy                      113\npr_jerk                                 112\nproj_kaggle_2sigma                      111\nproj_retailhero                         111\nproj_telecom_data_cup                   111\n_meetings_boardgames                    110\n_meetings_fi                            109\nlooking_for_a_job                       104\nproj_freesound_2019                     101\nclass_cs224w                             98\nmeeting_nsfw_icml                        97\nproj_classic_ai                          96\nods_mentoring                            93\nproj_ods_introspect                      93\nchess                                    90\nai_ethics                                89\nproj_signate_cars                        87\nproj_dsbowl_2017                         86\nminsk_2018_travel                        85\nproj_kaggle_recruit                      85\n_meetings_france                         84\nproj_kaggle_speech                       84\nproj_zillow                              80\nproj_drivendata                          79\nproj_kaggle_inclusive                    79\nods_pet_projects                         77\nods_social                               74\nproj_tinkoff                             73\nproj_kaggle_gan                          72\nproj_msft_malware                        71\nproj_kaggle_vsb_power                    69\nidrnd_challenge                          67\nproj_kaggle_cervix                       64\nproj_kaggle_trackml                      62\ncft_contest                              60\ntool_deeppavlov                          59\nkaggle_dsg                               58\nshow_your_work                           58\nproj_kaggle_deepfake                     55\nproj_poker                               54\nproj_geohack                             51\nproj_kaggle_nfl                          49\nquantum_computing                        46\nml4sg                                    45\nproj_kaggle_pronoun                      45\nproj_zindi                               45\nrisk_modelling                           44\nproj_kaggle_quest_challenge              44\n_general_en                              43\ntool_kekas                               39\n_meetings_ekb                            38\nproj_drivendata_chimp                    37\nkaggle_avito_2017                        36\nlang_julia                               36\n_meetings_seattle                        34\nneuroscience                             34\n_meetings_tomsk                          33\nods_crowd                                29\nteal_practices_cases                     28\nproj_nips_comp_19                        28\npydata                                   25\n_meetings_israel                         24\n_meetings_sochi                          23\n_jobs_academy_phd                        22\nconsulting                               22\nods_code_review                          21\nproj_jet_raif2018                        20\nproj_bytecup2018                         20\nlang_javascript                          20\ntool_kaos                                19\nproj_signate                             19\ntrue_story                               18\nods_sky_sport                            18\n_meetings_dv                             16\nbots                                     15\n_meetings_md                             15\nindustrial_ds                            14\ntool_segmentation                        14\ngett_mck_bigdata_hack                    13\nproj_dota2                               13\nproj_nghack2019                          13\nproj_sibur_challenge                     13\nproj_snahackathon                        11\nproj_nips_causal                         11\nods_site                                 10\nproj_acm_recsys                          10\n_meetings_nn                              8\n_meetings_perm                            8\nproj_gold_miners                          8\n_jobs_hr                                  7\nwhateverhack                              7\nproj_kaggle_bengali_classification        7\nrecsys2017                                7\n_top_talks                                6\nproj_gensim                               5\nods_purgatory                             5\nedu_dsclub_spb                            5\n_top_science                              5\n_meetings_chel                            4\n_meetings_omsk                            4\n_meetings_kzn                             4\nproj_nips_traffic                         3\nproj_idao_2019                            3\nesports                                   3\n_top_jobs                                 1\nods_challenges                            1\n_meetings_ulsk                            1\nName: channel, dtype: int64\n"
    }
   ],
   "source": [
    "with pd.option_context('display.max_rows', None, 'display.max_columns', None):\n",
    "    print(df_mod['channel'].value_counts())"
   ]
  },
  {
   "cell_type": "markdown",
   "metadata": {},
   "source": [
    "Выбрасываем записи из каналов вакансий, потому что там нет вопросов"
   ]
  },
  {
   "cell_type": "code",
   "execution_count": 59,
   "metadata": {},
   "outputs": [],
   "source": [
    "df_mod = df_mod[df_mod['channel'].str.find('jobs') == -1]"
   ]
  },
  {
   "cell_type": "markdown",
   "metadata": {},
   "source": [
    "Смотрим, много ли останется ответов, если парсить по реакциям"
   ]
  },
  {
   "cell_type": "code",
   "execution_count": 60,
   "metadata": {},
   "outputs": [],
   "source": [
    "df_mod = df_mod.reset_index()"
   ]
  },
  {
   "cell_type": "code",
   "execution_count": 61,
   "metadata": {
    "tags": [
     "outputPrepend"
    ]
   },
   "outputs": [
    {
     "output_type": "stream",
     "name": "stderr",
     "text": "100%|██████████| 403332/403332 [00:31<00:00, 12894.01it/s]\nОтветов с отмеченными реакциями всего 18363, всего реакций 123039\n\n"
    }
   ],
   "source": [
    "indxs = []\n",
    "r_cnt = 0\n",
    "for i, row in tqdm(df_mod.iterrows(), total=len(df_mod)):\n",
    "    if not 'nan' in row['reactions']:\n",
    "        for reaction in eval(row['reactions']):\n",
    "            r_cnt += 1\n",
    "            name = reaction['name']\n",
    "            if any([':tnx:' in name, ':heavy_plus_sign' in name, '+1' in name]):\n",
    "                indxs.append(i)\n",
    "\n",
    "print(f'\\nОтветов с отмеченными реакциями всего {len(df_mod.loc[indxs])}, всего реакций {r_cnt}')"
   ]
  },
  {
   "cell_type": "code",
   "execution_count": 64,
   "metadata": {},
   "outputs": [],
   "source": [
    "df_mod.drop('index', axis=1).to_parquet('data/qa_pairs_mod.parquet', compression='brotli', index=False)"
   ]
  },
  {
   "cell_type": "markdown",
   "metadata": {},
   "source": [
    "### Размышления на счёт построения графа позитивных пар"
   ]
  },
  {
   "cell_type": "code",
   "execution_count": 2,
   "metadata": {},
   "outputs": [
    {
     "output_type": "execute_result",
     "data": {
      "text/plain": "                   channel                                           question  \\\n0                  lang_go  Народ, кто знает, есть ли в GO библиотека для ...   \n1                  lang_go  Народ, кто знает, есть ли в GO библиотека для ...   \n2                  lang_go  Народ, кто знает, есть ли в GO библиотека для ...   \n3                  lang_go  Народ, кто знает, есть ли в GO библиотека для ...   \n4                  lang_go  Народ, кто знает, есть ли в GO библиотека для ...   \n...                    ...                                                ...   \n403327  proj_kaggle_2sigma         Ну что, как запасы попкорна на пол года? )   \n403328  proj_kaggle_2sigma         Ну что, как запасы попкорна на пол года? )   \n403329  proj_kaggle_2sigma         Ну что, как запасы попкорна на пол года? )   \n403330  proj_kaggle_2sigma  Нормализацию предиктов оставлять или ненадо? :...   \n403331  proj_kaggle_2sigma  Нормализацию предиктов оставлять или ненадо? :...   \n\n                                                   answer  \\\n0       В python. Аналог pandas есть только в R, но та...   \n1       Шатать таблички в го это, как летать на дачу н...   \n2                                                В Julia.   \n3       Вообще есть такая поделка - <https://github.co...   \n4       Ну и arrow есть, правда пока там мало что можн...   \n...                                                   ...   \n403327  Вроде обещали обновлять результаты периодическ...   \n403328  Интересно почистят ли лидерборд, както сомнива...   \n403329  Вот не понятно, будут ли заморачиваться над пу...   \n403330  Посмотри тут https: //www.kaggle.com/Questions...   \n403331  Посилка Hands-On Machine Learning with Scikit ...   \n\n                                        reactions  \n0                                             nan  \n1       [{'name': 'heavy_plus_sign', 'count': 1}]  \n2                                             nan  \n3                                             nan  \n4                                             nan  \n...                                           ...  \n403327                                        nan  \n403328                                        nan  \n403329                                        nan  \n403330                                        nan  \n403331                                        nan  \n\n[403332 rows x 4 columns]",
      "text/html": "<div>\n<style scoped>\n    .dataframe tbody tr th:only-of-type {\n        vertical-align: middle;\n    }\n\n    .dataframe tbody tr th {\n        vertical-align: top;\n    }\n\n    .dataframe thead th {\n        text-align: right;\n    }\n</style>\n<table border=\"1\" class=\"dataframe\">\n  <thead>\n    <tr style=\"text-align: right;\">\n      <th></th>\n      <th>channel</th>\n      <th>question</th>\n      <th>answer</th>\n      <th>reactions</th>\n    </tr>\n  </thead>\n  <tbody>\n    <tr>\n      <th>0</th>\n      <td>lang_go</td>\n      <td>Народ, кто знает, есть ли в GO библиотека для ...</td>\n      <td>В python. Аналог pandas есть только в R, но та...</td>\n      <td>nan</td>\n    </tr>\n    <tr>\n      <th>1</th>\n      <td>lang_go</td>\n      <td>Народ, кто знает, есть ли в GO библиотека для ...</td>\n      <td>Шатать таблички в го это, как летать на дачу н...</td>\n      <td>[{'name': 'heavy_plus_sign', 'count': 1}]</td>\n    </tr>\n    <tr>\n      <th>2</th>\n      <td>lang_go</td>\n      <td>Народ, кто знает, есть ли в GO библиотека для ...</td>\n      <td>В Julia.</td>\n      <td>nan</td>\n    </tr>\n    <tr>\n      <th>3</th>\n      <td>lang_go</td>\n      <td>Народ, кто знает, есть ли в GO библиотека для ...</td>\n      <td>Вообще есть такая поделка - &lt;https://github.co...</td>\n      <td>nan</td>\n    </tr>\n    <tr>\n      <th>4</th>\n      <td>lang_go</td>\n      <td>Народ, кто знает, есть ли в GO библиотека для ...</td>\n      <td>Ну и arrow есть, правда пока там мало что можн...</td>\n      <td>nan</td>\n    </tr>\n    <tr>\n      <th>...</th>\n      <td>...</td>\n      <td>...</td>\n      <td>...</td>\n      <td>...</td>\n    </tr>\n    <tr>\n      <th>403327</th>\n      <td>proj_kaggle_2sigma</td>\n      <td>Ну что, как запасы попкорна на пол года? )</td>\n      <td>Вроде обещали обновлять результаты периодическ...</td>\n      <td>nan</td>\n    </tr>\n    <tr>\n      <th>403328</th>\n      <td>proj_kaggle_2sigma</td>\n      <td>Ну что, как запасы попкорна на пол года? )</td>\n      <td>Интересно почистят ли лидерборд, както сомнива...</td>\n      <td>nan</td>\n    </tr>\n    <tr>\n      <th>403329</th>\n      <td>proj_kaggle_2sigma</td>\n      <td>Ну что, как запасы попкорна на пол года? )</td>\n      <td>Вот не понятно, будут ли заморачиваться над пу...</td>\n      <td>nan</td>\n    </tr>\n    <tr>\n      <th>403330</th>\n      <td>proj_kaggle_2sigma</td>\n      <td>Нормализацию предиктов оставлять или ненадо? :...</td>\n      <td>Посмотри тут https: //www.kaggle.com/Questions...</td>\n      <td>nan</td>\n    </tr>\n    <tr>\n      <th>403331</th>\n      <td>proj_kaggle_2sigma</td>\n      <td>Нормализацию предиктов оставлять или ненадо? :...</td>\n      <td>Посилка Hands-On Machine Learning with Scikit ...</td>\n      <td>nan</td>\n    </tr>\n  </tbody>\n</table>\n<p>403332 rows × 4 columns</p>\n</div>"
     },
     "metadata": {},
     "execution_count": 2
    }
   ],
   "source": [
    "df = pd.read_parquet('data/qa_pairs_mod.parquet'); df"
   ]
  },
  {
   "cell_type": "code",
   "execution_count": 3,
   "metadata": {
    "tags": [
     "outputPrepend"
    ]
   },
   "outputs": [
    {
     "output_type": "stream",
     "name": "stdout",
     "text": "na.github.io/taiga_site/>                                                                                3\nВсе                                                                                                                            3\n:wtf:                                                                                                                          3\nСупер                                                                                                                          3\nну ладно                                                                                                                       3\nвроде да                                                                                                                       3\nНет                                                                                                                            3\n<@U0M39M6LS> ^^                                                                                                                3\n<@U625V2J3G> Спасибо!                                                                                                          3\nпасибо!                                                                                                                        3\nименно                                                                                                                         3\n:catshake:                                                                                                                     3\nсложна                                                                                                                         3\n:fiesta_parrot:                                                                                                                3\nDon't ask to ask, just ask                                                                                                     3\n<@U2LF67NRH>                                                                                                                   3\nНе очевидно.                                                                                                                   3\nНе работает                                                                                                                    3\n:beers:                                                                                                                        3\ncs224n                                                                                                                         3\nжги                                                                                                                            3\n<#CE8P77PFW|ods_mentoring>                                                                                                     3\nОтлично!                                                                                                                       3\nшта                                                                                                                            3\n<http://vectors.nlpl.eu/repository/>                                                                                           3\nХорошо, спасибо                                                                                                                3\nвсем спасибо!                                                                                                                  3\nспасибо, почитаем!                                                                                                             3\n<@U562KSN69>                                                                                                                   3\nну да)                                                                                                                         3\n<https://github.com/bermanmaxim/LovaszSoftmax>                                                                                 3\nДавай!                                                                                                                         3\nДля чего?                                                                                                                      3\nприкольно                                                                                                                      3\n:partyparrot:                                                                                                                  3\n<#C4TJ1PLKV|_meetings_minsk>                                                                                                   3\nСпасибо большое!)                                                                                                              3\nL                                                                                                                              3\n<#C0VL96SJ2|_meetings_ukraine>                                                                                                 3\n<https://pytorch.org/tutorials/>                                                                                               3\nА где?                                                                                                                         3\nдумаю да                                                                                                                       3\n???                                                                                                                            3\nOK                                                                                                                             3\nок, спасибо :slightly_smiling_face:                                                                                            3\n<http://www.robots.ox.ac.uk/~vgg/software/via/>                                                                                3\n<https://opendatascience.slack.com/archives/C91N8TL83/p1539547776000100>                                                       3\nПостою послушаю                                                                                                                3\nподпишусь, тоже интересно                                                                                                      3\nПример чего?                                                                                                                   3\n<@U4U4GFDNK>                                                                                                                   3\nу меня так                                                                                                                     3\nДа ладно                                                                                                                       3\nа что это?                                                                                                                     3\nЭх                                                                                                                             3\n<@U049HDR2Z>                                                                                                                   3\nПодпишусь                                                                                                                      3\nАга, спасибо!                                                                                                                  3\n<https://github.com/ZFTurbo/Keras-RetinaNet-for-Open-Images-Challenge-2018>                                                    3\n<@U0P95857C>                                                                                                                   3\nСпс!                                                                                                                           3\n:everything_is_bad:                                                                                                            3\n:grinning:                                                                                                                     3\nданке                                                                                                                          3\n:omsk:                                                                                                                         3\nкруто, спасибо!                                                                                                                3\nпишу в эпичном треде                                                                                                           3\n<@U14L5TKNJ>                                                                                                                   3\nоткуда инфа?                                                                                                                   3\n:deeper:                                                                                                                       3\nАа                                                                                                                             3\nя буду                                                                                                                         3\n<https://github.com/tzutalin/labelImg>                                                                                         3\nЭх, спасибо                                                                                                                    3\nМожно                                                                                                                          3\n:slava:                                                                                                                        3\nпардоньте                                                                                                                      3\n<http://mltrainings.ru/>                                                                                                       3\n<#C7ERN5Y58|ods_resume_mastering>                                                                                              3\nТо же самое                                                                                                                    3\nа в чем проблема?                                                                                                              3\nДа, есть.                                                                                                                      3\nThanks.                                                                                                                        3\n<@U0P95857C> спасибо!                                                                                                          3\nХм                                                                                                                             3\n12                                                                                                                             3\nкак-то так                                                                                                                     3\n<@U3Z5KPTRQ>                                                                                                                   3\n:unet:                                                                                                                         3\n<https://github.com/IDSIA/sacred>                                                                                              3\nвсе так                                                                                                                        3\nеще                                                                                                                            3\n<#C8TUAT38B|proj_ds_bowl2018>                                                                                                  3\nХорошо. Спасибо!                                                                                                               3\n:face_with_rolling_eyes:                                                                                                       3\nкакой?                                                                                                                         3\nСпасибо )                                                                                                                      3\n:joke:                                                                                                                         3\n<https://opendatascience.slack.com/archives/C39147V60/p1504705365000322?thread_ts=1504704013.000211&amp;cid=C39147V60>         3\n<@U0H7VBQQ1>                                                                                                                   3\nтак точно                                                                                                                      3\n<@U26MG2Z37>                                                                                                                   3\n:loh:                                                                                                                          3\nвсе                                                                                                                            3\nсправедливо                                                                                                                    3\nда, ты прав                                                                                                                    3\nнет еще                                                                                                                        3\nЯ из Самары                                                                                                                    3\nблять                                                                                                                          3\n<@U09JEC7V0>                                                                                                                   3\nнуну                                                                                                                           3\nАналогично                                                                                                                     3\n(((                                                                                                                            3\nАга :slightly_smiling_face:                                                                                                    3\nпасиб                                                                                                                          3\nаха                                                                                                                            3\n<@U4ZRFG1V0> Спасибо!                                                                                                          3\nОно?                                                                                                                           3\nНо зачем?                                                                                                                      3\nДавайте                                                                                                                        3\nДа бля                                                                                                                         3\nо, спасибо!                                                                                                                    3\nя                                                                                                                              3\nда не за что)                                                                                                                  3\n:100:                                                                                                                          3\nотлично                                                                                                                        3\n:msn:                                                                                                                          3\nmendeley                                                                                                                       3\nотлично, спасибо!                                                                                                              3\nда да                                                                                                                          3\nНа месте                                                                                                                       3\nОтлично                                                                                                                        3\nЭх :pepe_sad:                                                                                                                  3\nвот именно                                                                                                                     3\nА, ок                                                                                                                          3\nзачем                                                                                                                          3\nexploratory data analysis                                                                                                      3\nPIL                                                                                                                            3\nПасиб)                                                                                                                         3\nэто где?                                                                                                                       3\n:pardon:                                                                                                                       3\nВ плане?                                                                                                                       3\n<https://mlcourse.ai/>                                                                                                         3\nничоси                                                                                                                         3\nочень                                                                                                                          3\n<#C4NSLJYGG|proj_kaggle_fish>                                                                                                  3\nСпасибо)))                                                                                                                     3\n:ololosh:                                                                                                                      3\n:dolan:                                                                                                                        3\nспасибо всем за ответы                                                                                                         3\nКак-то так                                                                                                                     3\nда)                                                                                                                            3\n(no homo)                                                                                                                      3\nПопробую найти                                                                                                                 3\n<#C040HKJF1|_random_flood>                                                                                                     3\nName: answer, dtype: int64\n"
    }
   ],
   "source": [
    "with pd.option_context('display.max_rows', None, 'display.max_columns', None):\n",
    "    print(df['answer'].value_counts()[df['answer'].value_counts() > 2])"
   ]
  },
  {
   "cell_type": "code",
   "execution_count": 3,
   "metadata": {},
   "outputs": [
    {
     "output_type": "stream",
     "name": "stderr",
     "text": "100%|██████████| 403332/403332 [01:21<00:00, 4945.70it/s]\n\nОтветов выбросить 21238, количество записей станет 382094\n"
    }
   ],
   "source": [
    "indxs = []\n",
    "for i, row in tqdm(df.iterrows(), total=len(df)):\n",
    "    if any(['спасибо' in row['answer'].lower(), 'понятно' in row['answer'].lower(), 'отлично' in row['answer'].lower(), 'получилось' in row['answer'].lower(), 'работало' in row['answer'].lower()]):\n",
    "        indxs.append(i)\n",
    "\n",
    "print(f'\\nОтветов выбросить {len(df.loc[indxs])}, количество записей станет {len(df)-len(df.loc[indxs])}')"
   ]
  },
  {
   "cell_type": "markdown",
   "metadata": {},
   "source": [
    "#### Выбираем самые чистые ответы с реакциями"
   ]
  },
  {
   "cell_type": "code",
   "execution_count": 3,
   "metadata": {},
   "outputs": [
    {
     "output_type": "stream",
     "name": "stderr",
     "text": "100%|██████████| 403332/403332 [00:45<00:00, 8797.98it/s]\n\nОтветов выбрaть 53462, количество записей станет 349870\n"
    }
   ],
   "source": [
    "indxs_clean = []\n",
    "for i, row in tqdm(df.iterrows(), total=len(df)):\n",
    "    if not 'nan' in row['reactions']:\n",
    "        for reaction in eval(row['reactions']):\n",
    "            name = reaction['name']\n",
    "            if all((any(['tnx' in name, 'heavy_plus_sign' in name, '+1' in name]), \n",
    "                    'спасибо' not in row['answer'].lower())):\n",
    "                indxs_clean.append(i)\n",
    "\n",
    "print(f'\\nОтветов выбрaть {len(df.loc[indxs_clean])}, количество записей станет {len(df)-len(df.loc[indxs_clean])}')"
   ]
  },
  {
   "cell_type": "markdown",
   "metadata": {},
   "source": [
    "Сохраняем, чтобы построить на них кластеры с помощью дефолтного USE"
   ]
  },
  {
   "cell_type": "code",
   "execution_count": 7,
   "metadata": {},
   "outputs": [],
   "source": [
    "df.loc[indxs_clean].drop_duplicates('answer').to_parquet('data/qa_clean.parquet', compression='brotli', index=False)"
   ]
  },
  {
   "cell_type": "code",
   "execution_count": 4,
   "metadata": {},
   "outputs": [
    {
     "output_type": "execute_result",
     "data": {
      "text/plain": "                  channel                                           question  \\\n0                 lang_go  Народ, кто знает, есть ли в GO библиотека для ...   \n1                 lang_go  Всем привет, нуждаюсь в помощи по составлению ...   \n2                 lang_go  Всем привет, нуждаюсь в помощи по составлению ...   \n3                 lang_go  Всем привет, нуждаюсь в помощи по составлению ...   \n4                 lang_go  Всем привет, нуждаюсь в помощи по составлению ...   \n...                   ...                                                ...   \n49389  proj_kaggle_2sigma  Как то можно писать в лог в процессе commit, ч...   \n49390  proj_kaggle_2sigma  Как то можно писать в лог в процессе commit, ч...   \n49391  proj_kaggle_2sigma  Ребят, а подскажите, я некоторое время назад с...   \n49392  proj_kaggle_2sigma  Ребят, а подскажите, я некоторое время назад с...   \n49393  proj_kaggle_2sigma  Трейдингом раньше не занимался. Подскажите, мо...   \n\n                                                  answer  \\\n0      Шатать таблички в го это, как летать на дачу н...   \n1      Зачем эта простыня текста. Ее традиционно никт...   \n2      > в проект Data Science\\nвыглядит как bullshit...   \n3                     <@U64GCA997> сильно лучше :notbad:   \n4      Что такое бустануть? Что за нужно уметь в них?...   \n...                                                  ...   \n49389  можно `logging` юзать. тогда можно одно и тоже...   \n49390  например так:\\n```# Set up a logger to dump me...   \n49391  насколько я понимаю, после того как закончится...   \n49392  1. Решения нет - это вообще бесспорно. 4 - наи...   \n49393  Не думаю что в лоб можно так утверждать, хотя ...   \n\n                                               reactions  \n0              [{'name': 'heavy_plus_sign', 'count': 1}]  \n1      [{'name': 'tnx', 'count': 1}, {'name': 'heavy_...  \n2                           [{'name': '+1', 'count': 1}]  \n3                          [{'name': 'tnx', 'count': 1}]  \n4      [{'name': 'heavy_plus_sign', 'count': 1}, {'na...  \n...                                                  ...  \n49389                      [{'name': 'tnx', 'count': 1}]  \n49390                       [{'name': '+1', 'count': 1}]  \n49391          [{'name': 'heavy_plus_sign', 'count': 2}]  \n49392  [{'name': '+1', 'count': 1}, {'name': 'heavy_p...  \n49393                      [{'name': 'tnx', 'count': 1}]  \n\n[49394 rows x 4 columns]",
      "text/html": "<div>\n<style scoped>\n    .dataframe tbody tr th:only-of-type {\n        vertical-align: middle;\n    }\n\n    .dataframe tbody tr th {\n        vertical-align: top;\n    }\n\n    .dataframe thead th {\n        text-align: right;\n    }\n</style>\n<table border=\"1\" class=\"dataframe\">\n  <thead>\n    <tr style=\"text-align: right;\">\n      <th></th>\n      <th>channel</th>\n      <th>question</th>\n      <th>answer</th>\n      <th>reactions</th>\n    </tr>\n  </thead>\n  <tbody>\n    <tr>\n      <th>0</th>\n      <td>lang_go</td>\n      <td>Народ, кто знает, есть ли в GO библиотека для ...</td>\n      <td>Шатать таблички в го это, как летать на дачу н...</td>\n      <td>[{'name': 'heavy_plus_sign', 'count': 1}]</td>\n    </tr>\n    <tr>\n      <th>1</th>\n      <td>lang_go</td>\n      <td>Всем привет, нуждаюсь в помощи по составлению ...</td>\n      <td>Зачем эта простыня текста. Ее традиционно никт...</td>\n      <td>[{'name': 'tnx', 'count': 1}, {'name': 'heavy_...</td>\n    </tr>\n    <tr>\n      <th>2</th>\n      <td>lang_go</td>\n      <td>Всем привет, нуждаюсь в помощи по составлению ...</td>\n      <td>&gt; в проект Data Science\\nвыглядит как bullshit...</td>\n      <td>[{'name': '+1', 'count': 1}]</td>\n    </tr>\n    <tr>\n      <th>3</th>\n      <td>lang_go</td>\n      <td>Всем привет, нуждаюсь в помощи по составлению ...</td>\n      <td>&lt;@U64GCA997&gt; сильно лучше :notbad:</td>\n      <td>[{'name': 'tnx', 'count': 1}]</td>\n    </tr>\n    <tr>\n      <th>4</th>\n      <td>lang_go</td>\n      <td>Всем привет, нуждаюсь в помощи по составлению ...</td>\n      <td>Что такое бустануть? Что за нужно уметь в них?...</td>\n      <td>[{'name': 'heavy_plus_sign', 'count': 1}, {'na...</td>\n    </tr>\n    <tr>\n      <th>...</th>\n      <td>...</td>\n      <td>...</td>\n      <td>...</td>\n      <td>...</td>\n    </tr>\n    <tr>\n      <th>49389</th>\n      <td>proj_kaggle_2sigma</td>\n      <td>Как то можно писать в лог в процессе commit, ч...</td>\n      <td>можно `logging` юзать. тогда можно одно и тоже...</td>\n      <td>[{'name': 'tnx', 'count': 1}]</td>\n    </tr>\n    <tr>\n      <th>49390</th>\n      <td>proj_kaggle_2sigma</td>\n      <td>Как то можно писать в лог в процессе commit, ч...</td>\n      <td>например так:\\n```# Set up a logger to dump me...</td>\n      <td>[{'name': '+1', 'count': 1}]</td>\n    </tr>\n    <tr>\n      <th>49391</th>\n      <td>proj_kaggle_2sigma</td>\n      <td>Ребят, а подскажите, я некоторое время назад с...</td>\n      <td>насколько я понимаю, после того как закончится...</td>\n      <td>[{'name': 'heavy_plus_sign', 'count': 2}]</td>\n    </tr>\n    <tr>\n      <th>49392</th>\n      <td>proj_kaggle_2sigma</td>\n      <td>Ребят, а подскажите, я некоторое время назад с...</td>\n      <td>1. Решения нет - это вообще бесспорно. 4 - наи...</td>\n      <td>[{'name': '+1', 'count': 1}, {'name': 'heavy_p...</td>\n    </tr>\n    <tr>\n      <th>49393</th>\n      <td>proj_kaggle_2sigma</td>\n      <td>Трейдингом раньше не занимался. Подскажите, мо...</td>\n      <td>Не думаю что в лоб можно так утверждать, хотя ...</td>\n      <td>[{'name': 'tnx', 'count': 1}]</td>\n    </tr>\n  </tbody>\n</table>\n<p>49394 rows × 4 columns</p>\n</div>"
     },
     "metadata": {},
     "execution_count": 4
    }
   ],
   "source": [
    "df = df.loc[indxs_clean]\n",
    "df = df.drop_duplicates('answer').reset_index().drop('index', axis=1); df"
   ]
  },
  {
   "cell_type": "code",
   "execution_count": 5,
   "metadata": {},
   "outputs": [
    {
     "output_type": "execute_result",
     "data": {
      "text/plain": "21018"
     },
     "metadata": {},
     "execution_count": 5
    }
   ],
   "source": [
    "df['question'].nunique()"
   ]
  },
  {
   "cell_type": "markdown",
   "metadata": {},
   "source": [
    "#### Отмечаем релевантные вопросу ответы"
   ]
  },
  {
   "cell_type": "code",
   "execution_count": 3,
   "metadata": {},
   "outputs": [],
   "source": [
    "df = pd.read_parquet('data/not_load/qa_short.parquet')"
   ]
  },
  {
   "cell_type": "code",
   "execution_count": 4,
   "metadata": {},
   "outputs": [
    {
     "output_type": "stream",
     "name": "stderr",
     "text": "100%|██████████| 49394/49394 [04:45<00:00, 173.10it/s]\n"
    },
    {
     "output_type": "execute_result",
     "data": {
      "text/plain": "                                                question  \\\n0      Народ, кто знает, есть ли в GO библиотека для ...   \n1      Всем привет, нуждаюсь в помощи по составлению ...   \n2      и еще вопрос, нет ли веяний, что этот проект п...   \n3      Кто-нибудь здесь проходил\\n<http://coursera.or...   \n4      Ahh folks, anyone is able to submit an lstm+en...   \n...                                                  ...   \n21013  Привет!\\nКогда-то давно написал маленькую библ...   \n21014  <https://memepedia.ru/wp-content/uploads/2017/...   \n21015  Как то можно писать в лог в процессе commit, ч...   \n21016  Ребят, а подскажите, я некоторое время назад с...   \n21017  Трейдингом раньше не занимался. Подскажите, мо...   \n\n                                                 answers   q_id  \\\n0      Шатать таблички в го это, как летать на дачу н...      0   \n1      Зачем эта простыня текста. Ее традиционно никт...      1   \n2      кажется, что пока таких веяний нет, только рос...      5   \n3      если говорить про идеоматичность, то я обычно ...      7   \n4                                            Fixed this!      8   \n...                                                  ...    ...   \n21013  интересный проект. но лучше перепишите на англ...  49385   \n21014  затвить что ли куда-нибудь - можно будет и там...  49386   \n21015  Можно писать отдельный файл в лог, который пот...  49388   \n21016  насколько я понимаю, после того как закончится...  49391   \n21017  Не думаю что в лоб можно так утверждать, хотя ...  49393   \n\n                 ans_ids  \n0                      0  \n1                1,2,3,4  \n2                    5,6  \n3                      7  \n4                      8  \n...                  ...  \n21013              49385  \n21014        49386,49387  \n21015  49388,49389,49390  \n21016        49391,49392  \n21017              49393  \n\n[21018 rows x 4 columns]",
      "text/html": "<div>\n<style scoped>\n    .dataframe tbody tr th:only-of-type {\n        vertical-align: middle;\n    }\n\n    .dataframe tbody tr th {\n        vertical-align: top;\n    }\n\n    .dataframe thead th {\n        text-align: right;\n    }\n</style>\n<table border=\"1\" class=\"dataframe\">\n  <thead>\n    <tr style=\"text-align: right;\">\n      <th></th>\n      <th>question</th>\n      <th>answers</th>\n      <th>q_id</th>\n      <th>ans_ids</th>\n    </tr>\n  </thead>\n  <tbody>\n    <tr>\n      <th>0</th>\n      <td>Народ, кто знает, есть ли в GO библиотека для ...</td>\n      <td>Шатать таблички в го это, как летать на дачу н...</td>\n      <td>0</td>\n      <td>0</td>\n    </tr>\n    <tr>\n      <th>1</th>\n      <td>Всем привет, нуждаюсь в помощи по составлению ...</td>\n      <td>Зачем эта простыня текста. Ее традиционно никт...</td>\n      <td>1</td>\n      <td>1,2,3,4</td>\n    </tr>\n    <tr>\n      <th>2</th>\n      <td>и еще вопрос, нет ли веяний, что этот проект п...</td>\n      <td>кажется, что пока таких веяний нет, только рос...</td>\n      <td>5</td>\n      <td>5,6</td>\n    </tr>\n    <tr>\n      <th>3</th>\n      <td>Кто-нибудь здесь проходил\\n&lt;http://coursera.or...</td>\n      <td>если говорить про идеоматичность, то я обычно ...</td>\n      <td>7</td>\n      <td>7</td>\n    </tr>\n    <tr>\n      <th>4</th>\n      <td>Ahh folks, anyone is able to submit an lstm+en...</td>\n      <td>Fixed this!</td>\n      <td>8</td>\n      <td>8</td>\n    </tr>\n    <tr>\n      <th>...</th>\n      <td>...</td>\n      <td>...</td>\n      <td>...</td>\n      <td>...</td>\n    </tr>\n    <tr>\n      <th>21013</th>\n      <td>Привет!\\nКогда-то давно написал маленькую библ...</td>\n      <td>интересный проект. но лучше перепишите на англ...</td>\n      <td>49385</td>\n      <td>49385</td>\n    </tr>\n    <tr>\n      <th>21014</th>\n      <td>&lt;https://memepedia.ru/wp-content/uploads/2017/...</td>\n      <td>затвить что ли куда-нибудь - можно будет и там...</td>\n      <td>49386</td>\n      <td>49386,49387</td>\n    </tr>\n    <tr>\n      <th>21015</th>\n      <td>Как то можно писать в лог в процессе commit, ч...</td>\n      <td>Можно писать отдельный файл в лог, который пот...</td>\n      <td>49388</td>\n      <td>49388,49389,49390</td>\n    </tr>\n    <tr>\n      <th>21016</th>\n      <td>Ребят, а подскажите, я некоторое время назад с...</td>\n      <td>насколько я понимаю, после того как закончится...</td>\n      <td>49391</td>\n      <td>49391,49392</td>\n    </tr>\n    <tr>\n      <th>21017</th>\n      <td>Трейдингом раньше не занимался. Подскажите, мо...</td>\n      <td>Не думаю что в лоб можно так утверждать, хотя ...</td>\n      <td>49393</td>\n      <td>49393</td>\n    </tr>\n  </tbody>\n</table>\n<p>21018 rows × 4 columns</p>\n</div>"
     },
     "metadata": {},
     "execution_count": 4
    }
   ],
   "source": [
    "graph = pd.DataFrame(columns=['question', 'answers', 'q_id', 'ans_ids'])\n",
    "for i, row in tqdm(df.iterrows(), total=len(df)):\n",
    "    if len(graph.loc[graph['question'] == row['question']]) == 0:\n",
    "        graph.loc[len(graph), ['question', 'answers', 'q_id', 'ans_ids']] = row['question'], row['answer'], i, str(i)\n",
    "    else:\n",
    "        graph.loc[graph['question'] == row['question'], 'answers'] += '<EOA>'+row['answer']\n",
    "        graph.loc[graph['question'] == row['question'], 'ans_ids'] += ','+str(i)\n",
    "\n",
    "graph"
   ]
  },
  {
   "cell_type": "code",
   "execution_count": 5,
   "metadata": {},
   "outputs": [],
   "source": [
    "graph.to_parquet('data/not_load/qa_sim.parquet', compression='brotli', index=False)"
   ]
  },
  {
   "cell_type": "markdown",
   "metadata": {},
   "source": [
    "### Выделяем короткие вопросы"
   ]
  },
  {
   "cell_type": "code",
   "execution_count": 2,
   "metadata": {},
   "outputs": [],
   "source": [
    "df = pd.read_parquet('data/qa_clean.parquet')"
   ]
  },
  {
   "cell_type": "code",
   "execution_count": 14,
   "metadata": {},
   "outputs": [
    {
     "output_type": "stream",
     "name": "stdout",
     "text": "<class 'pandas.core.frame.DataFrame'>\nRangeIndex: 49394 entries, 0 to 49393\nData columns (total 4 columns):\n #   Column     Non-Null Count  Dtype \n---  ------     --------------  ----- \n 0   channel    49394 non-null  object\n 1   question   49394 non-null  object\n 2   answer     49394 non-null  object\n 3   reactions  49394 non-null  object\ndtypes: object(4)\nmemory usage: 1.5+ MB\n"
    }
   ],
   "source": [
    "df.info()"
   ]
  },
  {
   "cell_type": "code",
   "execution_count": 5,
   "metadata": {},
   "outputs": [
    {
     "output_type": "stream",
     "name": "stderr",
     "text": "49394it [00:06, 7455.43it/s]\n"
    },
    {
     "output_type": "execute_result",
     "data": {
      "text/plain": "1800"
     },
     "metadata": {},
     "execution_count": 5
    }
   ],
   "source": [
    "lens = []\n",
    "for i, row in tqdm(df.iterrows(), total=len(df)):\n",
    "    lens.append(len(row['question'].split(' ')))\n",
    "max(lens)"
   ]
  },
  {
   "cell_type": "code",
   "execution_count": 6,
   "metadata": {},
   "outputs": [],
   "source": [
    "from collections import Counter\n",
    "\n",
    "c = Counter(lens)"
   ]
  },
  {
   "cell_type": "code",
   "execution_count": 23,
   "metadata": {},
   "outputs": [
    {
     "output_type": "execute_result",
     "data": {
      "text/plain": "387"
     },
     "metadata": {},
     "execution_count": 23
    }
   ],
   "source": [
    "c.most_common"
   ]
  },
  {
   "cell_type": "code",
   "execution_count": 22,
   "metadata": {},
   "outputs": [
    {
     "output_type": "execute_result",
     "data": {
      "text/plain": "[(15, 1149),\n (16, 1023),\n (21, 1009),\n (19, 992),\n (18, 988),\n (20, 987),\n (11, 954),\n (12, 944),\n (22, 923),\n (13, 904),\n (14, 895),\n (17, 881),\n (23, 823),\n (24, 816),\n (10, 804),\n (29, 781),\n (8, 776),\n (32, 775),\n (33, 772),\n (26, 767),\n (9, 761),\n (27, 758),\n (34, 700),\n (25, 692),\n (28, 680),\n (31, 674),\n (7, 661),\n (30, 661),\n (36, 625),\n (48, 582),\n (35, 581),\n (38, 569),\n (41, 564),\n (37, 563),\n (39, 562),\n (6, 510),\n (42, 502),\n (40, 498),\n (45, 471),\n (47, 453),\n (43, 445),\n (5, 439),\n (44, 434),\n (46, 398),\n (52, 393),\n (51, 386),\n (58, 371),\n (53, 368),\n (49, 367),\n (54, 366),\n (57, 345),\n (50, 327),\n (61, 326),\n (59, 320),\n (55, 311),\n (4, 308),\n (64, 301),\n (70, 290),\n (62, 289),\n (68, 281),\n (56, 265),\n (71, 257),\n (66, 254),\n (60, 251),\n (63, 249),\n (67, 234),\n (74, 215),\n (75, 210),\n (85, 197),\n (78, 196),\n (88, 192),\n (69, 188),\n (65, 182),\n (73, 180),\n (72, 175),\n (89, 169),\n (90, 164),\n (3, 162),\n (79, 162),\n (98, 161),\n (76, 155),\n (81, 153),\n (83, 150),\n (87, 143),\n (84, 140),\n (91, 137),\n (117, 136),\n (80, 133),\n (77, 133),\n (100, 130),\n (82, 125),\n (109, 122),\n (95, 121),\n (94, 118),\n (86, 111),\n (93, 111),\n (113, 110),\n (262, 107),\n (110, 105),\n (333, 105)]"
     },
     "metadata": {},
     "execution_count": 22
    }
   ],
   "source": [
    "c.most_common(100)"
   ]
  },
  {
   "cell_type": "markdown",
   "metadata": {},
   "source": [
    "Выбираем максимальное число слов = 25"
   ]
  },
  {
   "cell_type": "code",
   "execution_count": 20,
   "metadata": {},
   "outputs": [
    {
     "output_type": "stream",
     "name": "stderr",
     "text": "100%|██████████| 49394/49394 [00:06<00:00, 7749.27it/s]\n<class 'pandas.core.frame.DataFrame'>\nInt64Index: 18487 entries, 5 to 49393\nData columns (total 4 columns):\n #   Column     Non-Null Count  Dtype \n---  ------     --------------  ----- \n 0   channel    18487 non-null  object\n 1   question   18487 non-null  object\n 2   answer     18487 non-null  object\n 3   reactions  18487 non-null  object\ndtypes: object(4)\nmemory usage: 722.1+ KB\n"
    }
   ],
   "source": [
    "ids = []\n",
    "for i, row in tqdm(df.iterrows(), total=len(df)):\n",
    "    if len(row['question'].split(' ')) <= 25:\n",
    "        ids.append(i)\n",
    "\n",
    "df.loc[ids].info()"
   ]
  },
  {
   "cell_type": "code",
   "execution_count": 21,
   "metadata": {},
   "outputs": [],
   "source": [
    "df.to_parquet('data/qa_short.parquet', compression='brotli', index=False)"
   ]
  },
  {
   "cell_type": "markdown",
   "metadata": {},
   "source": [
    "### Создаём таблицу для подбора по ней пар похожих вопросов"
   ]
  },
  {
   "cell_type": "code",
   "execution_count": 2,
   "metadata": {},
   "outputs": [
    {
     "output_type": "execute_result",
     "data": {
      "text/plain": "   channel                                           question  \\\n0  lang_go  Народ, кто знает, есть ли в GO библиотека для ...   \n1  lang_go  Всем привет, нуждаюсь в помощи по составлению ...   \n2  lang_go  Всем привет, нуждаюсь в помощи по составлению ...   \n3  lang_go  Всем привет, нуждаюсь в помощи по составлению ...   \n4  lang_go  Всем привет, нуждаюсь в помощи по составлению ...   \n\n                                              answer  \\\n0  Шатать таблички в го это, как летать на дачу н...   \n1  Зачем эта простыня текста. Ее традиционно никт...   \n2  > в проект Data Science\\nвыглядит как bullshit...   \n3                 <@U64GCA997> сильно лучше :notbad:   \n4  Что такое бустануть? Что за нужно уметь в них?...   \n\n                                           reactions  \n0          [{'name': 'heavy_plus_sign', 'count': 1}]  \n1  [{'name': 'tnx', 'count': 1}, {'name': 'heavy_...  \n2                       [{'name': '+1', 'count': 1}]  \n3                      [{'name': 'tnx', 'count': 1}]  \n4  [{'name': 'heavy_plus_sign', 'count': 1}, {'na...  ",
      "text/html": "<div>\n<style scoped>\n    .dataframe tbody tr th:only-of-type {\n        vertical-align: middle;\n    }\n\n    .dataframe tbody tr th {\n        vertical-align: top;\n    }\n\n    .dataframe thead th {\n        text-align: right;\n    }\n</style>\n<table border=\"1\" class=\"dataframe\">\n  <thead>\n    <tr style=\"text-align: right;\">\n      <th></th>\n      <th>channel</th>\n      <th>question</th>\n      <th>answer</th>\n      <th>reactions</th>\n    </tr>\n  </thead>\n  <tbody>\n    <tr>\n      <th>0</th>\n      <td>lang_go</td>\n      <td>Народ, кто знает, есть ли в GO библиотека для ...</td>\n      <td>Шатать таблички в го это, как летать на дачу н...</td>\n      <td>[{'name': 'heavy_plus_sign', 'count': 1}]</td>\n    </tr>\n    <tr>\n      <th>1</th>\n      <td>lang_go</td>\n      <td>Всем привет, нуждаюсь в помощи по составлению ...</td>\n      <td>Зачем эта простыня текста. Ее традиционно никт...</td>\n      <td>[{'name': 'tnx', 'count': 1}, {'name': 'heavy_...</td>\n    </tr>\n    <tr>\n      <th>2</th>\n      <td>lang_go</td>\n      <td>Всем привет, нуждаюсь в помощи по составлению ...</td>\n      <td>&gt; в проект Data Science\\nвыглядит как bullshit...</td>\n      <td>[{'name': '+1', 'count': 1}]</td>\n    </tr>\n    <tr>\n      <th>3</th>\n      <td>lang_go</td>\n      <td>Всем привет, нуждаюсь в помощи по составлению ...</td>\n      <td>&lt;@U64GCA997&gt; сильно лучше :notbad:</td>\n      <td>[{'name': 'tnx', 'count': 1}]</td>\n    </tr>\n    <tr>\n      <th>4</th>\n      <td>lang_go</td>\n      <td>Всем привет, нуждаюсь в помощи по составлению ...</td>\n      <td>Что такое бустануть? Что за нужно уметь в них?...</td>\n      <td>[{'name': 'heavy_plus_sign', 'count': 1}, {'na...</td>\n    </tr>\n  </tbody>\n</table>\n</div>"
     },
     "metadata": {},
     "execution_count": 2
    }
   ],
   "source": [
    "df = pd.read_parquet('data/qa_clean.parquet'); df.head()"
   ]
  },
  {
   "cell_type": "markdown",
   "metadata": {},
   "source": [
    "#### Создаем новую таблицу"
   ]
  },
  {
   "cell_type": "code",
   "execution_count": 3,
   "metadata": {},
   "outputs": [],
   "source": [
    "channels = ['analytiсs', 'audio_and_speech', 'bayesian', 'big_data', 'bioinformatics', 'blockchain', 'cloud', 'datasets',\n",
    "            'deep_learning', 'devops', 'gan', 'gis', 'lang_cpp', 'lang_go', 'lang_javascript', 'lang_julia', 'lang_python'\n",
    "            'lang_r', 'lang_scala', 'math', 'nlp', 'recommender_systems', 'reinforcement_learning', 'risk_modelling', \n",
    "            'satellite_imaging', 'trading', 'visualization']"
   ]
  },
  {
   "cell_type": "code",
   "execution_count": 4,
   "metadata": {},
   "outputs": [],
   "source": [
    "df_new = pd.DataFrame(columns=['question', 'similiar_questions_ids_in_clean_df', 'question_ids_in_clean_df', 'cheched'])"
   ]
  },
  {
   "cell_type": "code",
   "execution_count": 5,
   "metadata": {},
   "outputs": [],
   "source": [
    "df = df[df['channel'].isin(channels)]"
   ]
  },
  {
   "cell_type": "code",
   "execution_count": 6,
   "metadata": {},
   "outputs": [],
   "source": [
    "df_new['question'] = df['question'].unique()\n",
    "df_new['checked'] = False"
   ]
  },
  {
   "cell_type": "code",
   "execution_count": 7,
   "metadata": {},
   "outputs": [
    {
     "output_type": "stream",
     "name": "stderr",
     "text": "Сопоставляем индексы новой таблицы с индексами из qa_clean: 100%|██████████| 5161/5161 [00:09<00:00, 536.60it/s]\n"
    }
   ],
   "source": [
    "for i in tqdm(range(len(df_new)), total=len(df_new), desc=\"Сопоставляем индексы новой таблицы с индексами из qa_clean\"):\n",
    "    df_new.loc[i, 'question_ids_in_clean_df'] = str(df.index[df['question'] == df_new.loc[i, 'question']].tolist()).strip('[]')"
   ]
  },
  {
   "cell_type": "code",
   "execution_count": 8,
   "metadata": {},
   "outputs": [
    {
     "output_type": "execute_result",
     "data": {
      "text/plain": "                                            question  \\\n0  Народ, кто знает, есть ли в GO библиотека для ...   \n1  Всем привет, нуждаюсь в помощи по составлению ...   \n2  и еще вопрос, нет ли веяний, что этот проект п...   \n3  Кто-нибудь здесь проходил\\n<http://coursera.or...   \n4  Кто-нибудь знает готовые реализации для обнару...   \n\n  similiar_questions_ids_in_clean_df question_ids_in_clean_df cheched  checked  \n0                                NaN                        0     NaN    False  \n1                                NaN               1, 2, 3, 4     NaN    False  \n2                                NaN                     5, 6     NaN    False  \n3                                NaN                        7     NaN    False  \n4                                NaN                       66     NaN    False  ",
      "text/html": "<div>\n<style scoped>\n    .dataframe tbody tr th:only-of-type {\n        vertical-align: middle;\n    }\n\n    .dataframe tbody tr th {\n        vertical-align: top;\n    }\n\n    .dataframe thead th {\n        text-align: right;\n    }\n</style>\n<table border=\"1\" class=\"dataframe\">\n  <thead>\n    <tr style=\"text-align: right;\">\n      <th></th>\n      <th>question</th>\n      <th>similiar_questions_ids_in_clean_df</th>\n      <th>question_ids_in_clean_df</th>\n      <th>cheched</th>\n      <th>checked</th>\n    </tr>\n  </thead>\n  <tbody>\n    <tr>\n      <th>0</th>\n      <td>Народ, кто знает, есть ли в GO библиотека для ...</td>\n      <td>NaN</td>\n      <td>0</td>\n      <td>NaN</td>\n      <td>False</td>\n    </tr>\n    <tr>\n      <th>1</th>\n      <td>Всем привет, нуждаюсь в помощи по составлению ...</td>\n      <td>NaN</td>\n      <td>1, 2, 3, 4</td>\n      <td>NaN</td>\n      <td>False</td>\n    </tr>\n    <tr>\n      <th>2</th>\n      <td>и еще вопрос, нет ли веяний, что этот проект п...</td>\n      <td>NaN</td>\n      <td>5, 6</td>\n      <td>NaN</td>\n      <td>False</td>\n    </tr>\n    <tr>\n      <th>3</th>\n      <td>Кто-нибудь здесь проходил\\n&lt;http://coursera.or...</td>\n      <td>NaN</td>\n      <td>7</td>\n      <td>NaN</td>\n      <td>False</td>\n    </tr>\n    <tr>\n      <th>4</th>\n      <td>Кто-нибудь знает готовые реализации для обнару...</td>\n      <td>NaN</td>\n      <td>66</td>\n      <td>NaN</td>\n      <td>False</td>\n    </tr>\n  </tbody>\n</table>\n</div>"
     },
     "metadata": {},
     "execution_count": 8
    }
   ],
   "source": [
    "df_new.head()"
   ]
  },
  {
   "cell_type": "code",
   "execution_count": 9,
   "metadata": {},
   "outputs": [],
   "source": [
    "df_new.to_parquet('data/qq_sim.parquet', compression='brotli', index=False)"
   ]
  },
  {
   "cell_type": "markdown",
   "metadata": {},
   "source": [
    "## Делаем датасет для классификации тем"
   ]
  },
  {
   "cell_type": "code",
   "execution_count": 2,
   "metadata": {},
   "outputs": [
    {
     "output_type": "stream",
     "name": "stdout",
     "text": "<class 'pandas.core.frame.DataFrame'>\nInt64Index: 728406 entries, 0 to 735930\nData columns (total 4 columns):\n #   Column     Non-Null Count   Dtype \n---  ------     --------------   ----- \n 0   channel    728406 non-null  object\n 1   question   728406 non-null  object\n 2   answer     728406 non-null  object\n 3   reactions  728406 non-null  object\ndtypes: object(4)\nmemory usage: 27.8+ MB\n"
    }
   ],
   "source": [
    "df = pd.read_parquet('data/qa_pairs.parquet').dropna(); df.info()"
   ]
  },
  {
   "cell_type": "code",
   "execution_count": 3,
   "metadata": {},
   "outputs": [
    {
     "output_type": "execute_result",
     "data": {
      "text/plain": "1"
     },
     "metadata": {},
     "execution_count": 3
    }
   ],
   "source": [
    "import re\n",
    "\n",
    "CHANNEL_TAG = re.compile('#\\w{2,}')\n",
    "LINK_PATTERN = re.compile('<https?://[^\\\"\\s>]+>')\n",
    "test_question = '#_nlp kadf'\n",
    "\n",
    "text = re.findall(CHANNEL_TAG, test_question); len(text)"
   ]
  },
  {
   "cell_type": "markdown",
   "metadata": {},
   "source": [
    "Убираем вопросы с перенаправлением в треде и оставляем только со знаками вопроса"
   ]
  },
  {
   "cell_type": "code",
   "execution_count": 7,
   "metadata": {},
   "outputs": [
    {
     "output_type": "stream",
     "name": "stderr",
     "text": "100%|██████████| 81238/81238 [4:03:19<00:00,  5.56it/s]\nКоличество вопросов уменьшилось на 330114\n\n"
    }
   ],
   "source": [
    "df_mod = pd.DataFrame(columns=df.columns)\n",
    "for question in tqdm(df['question'].unique(), total=len(df['question'].unique())):\n",
    "    answers = df[df['question'] == question]['answer'].to_numpy()\n",
    "    channel = df[df['question'] == question]['channel'].to_numpy()[0]\n",
    "    reactions = df[df['question'] == question]['reactions'].to_numpy()\n",
    "    for i, answer in enumerate(answers):\n",
    "        if '?' in re.sub(LINK_PATTERN, 'ссылка', question) and len(re.findall(CHANNEL_TAG, answer)) == 0 and len(question.split(' '))<=512:\n",
    "            df_mod.loc[len(df_mod)] = channel, question, answer, reactions[i]\n",
    "\n",
    "print(f'\\nКоличество вопросов уменьшилось на {len(df)-len(df_mod)}')"
   ]
  },
  {
   "cell_type": "code",
   "execution_count": 8,
   "metadata": {},
   "outputs": [
    {
     "output_type": "stream",
     "name": "stdout",
     "text": "<class 'pandas.core.frame.DataFrame'>\nInt64Index: 398292 entries, 0 to 398291\nData columns (total 4 columns):\n #   Column     Non-Null Count   Dtype \n---  ------     --------------   ----- \n 0   channel    398292 non-null  object\n 1   question   398292 non-null  object\n 2   answer     398292 non-null  object\n 3   reactions  398292 non-null  object\ndtypes: object(4)\nmemory usage: 15.2+ MB\n"
    }
   ],
   "source": [
    "df_mod.info()"
   ]
  },
  {
   "cell_type": "code",
   "execution_count": 10,
   "metadata": {},
   "outputs": [],
   "source": [
    "df_mod.to_parquet('data/qa_classif.parquet', compression='brotli', index=False)"
   ]
  },
  {
   "cell_type": "markdown",
   "metadata": {},
   "source": [
    "Оставляем короткие вопросы"
   ]
  },
  {
   "cell_type": "code",
   "execution_count": 10,
   "metadata": {},
   "outputs": [],
   "source": [
    "df = pd.read_parquet('data/train.parquet')"
   ]
  },
  {
   "cell_type": "code",
   "execution_count": 11,
   "metadata": {},
   "outputs": [
    {
     "output_type": "execute_result",
     "data": {
      "text/plain": "                                            question  _call_4_collaboration  \\\n0                   за hw9/10 баллы в рейтинг будут?                      0   \n1  По поводу кассандры – а как ее разворачивать в...                      0   \n2  При покупке на localbitcoin есть ли какие-то г...                      0   \n3  Что посоветуете брать, поддержаную gtx 1080 ti...                      0   \n4  Всем привет. Может кто-нибудь встречал описани...                      0   \n\n   _jobs  _random_b  _random_politics  _random_talks  article_essence  \\\n0      0          0                 0              0                0   \n1      0          0                 0              0                0   \n2      0          0                 0              0                0   \n3      0          0                 0              0                0   \n4      0          0                 0              0                0   \n\n   audio_and_speech  bayesian  big_data  ...  sequences_series  \\\n0                 0         0         0  ...                 0   \n1                 0         0         1  ...                 0   \n2                 0         0         0  ...                 0   \n3                 0         0         0  ...                 0   \n4                 0         0         0  ...                 0   \n\n   theory_and_practice  tool_albumentations  tool_catalyst  tool_catboost  \\\n0                    0                    0              0              0   \n1                    0                    0              0              0   \n2                    0                    0              0              0   \n3                    0                    0              0              0   \n4                    0                    0              0              0   \n\n   tool_dvc  trading  visualization  welcome  writing_n_presenting  \n0         0        0              0        0                     0  \n1         0        0              0        0                     0  \n2         0        0              0        0                     0  \n3         0        0              0        0                     0  \n4         0        0              0        0                     0  \n\n[5 rows x 80 columns]",
      "text/html": "<div>\n<style scoped>\n    .dataframe tbody tr th:only-of-type {\n        vertical-align: middle;\n    }\n\n    .dataframe tbody tr th {\n        vertical-align: top;\n    }\n\n    .dataframe thead th {\n        text-align: right;\n    }\n</style>\n<table border=\"1\" class=\"dataframe\">\n  <thead>\n    <tr style=\"text-align: right;\">\n      <th></th>\n      <th>question</th>\n      <th>_call_4_collaboration</th>\n      <th>_jobs</th>\n      <th>_random_b</th>\n      <th>_random_politics</th>\n      <th>_random_talks</th>\n      <th>article_essence</th>\n      <th>audio_and_speech</th>\n      <th>bayesian</th>\n      <th>big_data</th>\n      <th>...</th>\n      <th>sequences_series</th>\n      <th>theory_and_practice</th>\n      <th>tool_albumentations</th>\n      <th>tool_catalyst</th>\n      <th>tool_catboost</th>\n      <th>tool_dvc</th>\n      <th>trading</th>\n      <th>visualization</th>\n      <th>welcome</th>\n      <th>writing_n_presenting</th>\n    </tr>\n  </thead>\n  <tbody>\n    <tr>\n      <th>0</th>\n      <td>за hw9/10 баллы в рейтинг будут?</td>\n      <td>0</td>\n      <td>0</td>\n      <td>0</td>\n      <td>0</td>\n      <td>0</td>\n      <td>0</td>\n      <td>0</td>\n      <td>0</td>\n      <td>0</td>\n      <td>...</td>\n      <td>0</td>\n      <td>0</td>\n      <td>0</td>\n      <td>0</td>\n      <td>0</td>\n      <td>0</td>\n      <td>0</td>\n      <td>0</td>\n      <td>0</td>\n      <td>0</td>\n    </tr>\n    <tr>\n      <th>1</th>\n      <td>По поводу кассандры – а как ее разворачивать в...</td>\n      <td>0</td>\n      <td>0</td>\n      <td>0</td>\n      <td>0</td>\n      <td>0</td>\n      <td>0</td>\n      <td>0</td>\n      <td>0</td>\n      <td>1</td>\n      <td>...</td>\n      <td>0</td>\n      <td>0</td>\n      <td>0</td>\n      <td>0</td>\n      <td>0</td>\n      <td>0</td>\n      <td>0</td>\n      <td>0</td>\n      <td>0</td>\n      <td>0</td>\n    </tr>\n    <tr>\n      <th>2</th>\n      <td>При покупке на localbitcoin есть ли какие-то г...</td>\n      <td>0</td>\n      <td>0</td>\n      <td>0</td>\n      <td>0</td>\n      <td>0</td>\n      <td>0</td>\n      <td>0</td>\n      <td>0</td>\n      <td>0</td>\n      <td>...</td>\n      <td>0</td>\n      <td>0</td>\n      <td>0</td>\n      <td>0</td>\n      <td>0</td>\n      <td>0</td>\n      <td>0</td>\n      <td>0</td>\n      <td>0</td>\n      <td>0</td>\n    </tr>\n    <tr>\n      <th>3</th>\n      <td>Что посоветуете брать, поддержаную gtx 1080 ti...</td>\n      <td>0</td>\n      <td>0</td>\n      <td>0</td>\n      <td>0</td>\n      <td>0</td>\n      <td>0</td>\n      <td>0</td>\n      <td>0</td>\n      <td>0</td>\n      <td>...</td>\n      <td>0</td>\n      <td>0</td>\n      <td>0</td>\n      <td>0</td>\n      <td>0</td>\n      <td>0</td>\n      <td>0</td>\n      <td>0</td>\n      <td>0</td>\n      <td>0</td>\n    </tr>\n    <tr>\n      <th>4</th>\n      <td>Всем привет. Может кто-нибудь встречал описани...</td>\n      <td>0</td>\n      <td>0</td>\n      <td>0</td>\n      <td>0</td>\n      <td>0</td>\n      <td>0</td>\n      <td>0</td>\n      <td>0</td>\n      <td>0</td>\n      <td>...</td>\n      <td>0</td>\n      <td>0</td>\n      <td>0</td>\n      <td>0</td>\n      <td>0</td>\n      <td>0</td>\n      <td>0</td>\n      <td>0</td>\n      <td>0</td>\n      <td>0</td>\n    </tr>\n  </tbody>\n</table>\n<p>5 rows × 80 columns</p>\n</div>"
     },
     "metadata": {},
     "execution_count": 11
    }
   ],
   "source": [
    "df.head()"
   ]
  },
  {
   "cell_type": "code",
   "execution_count": 13,
   "metadata": {},
   "outputs": [
    {
     "output_type": "stream",
     "name": "stderr",
     "text": "100%|██████████| 215054/215054 [01:51<00:00, 1923.14it/s]\n100%|██████████| 215054/215054 [00:15<00:00, 14230.94it/s]\nQuestions longer then 1024 characters are 0\n\n"
    }
   ],
   "source": [
    "for i, row in tqdm(df.iterrows(), total=len(df)):\n",
    "    if len(row['question']) > 1024:\n",
    "        df.loc[i, 'question'] = row['question'][:1024]\n",
    "\n",
    "longer = 0\n",
    "for i, row in tqdm(df.iterrows(), total=len(df)):\n",
    "    if len(row['question']) > 1024:\n",
    "        longer += 1\n",
    "\n",
    "print('')\n",
    "print(f'Questions longer then 1024 characters are {longer}')"
   ]
  },
  {
   "cell_type": "code",
   "execution_count": 6,
   "metadata": {},
   "outputs": [
    {
     "output_type": "execute_result",
     "data": {
      "text/plain": "5.260539213406865"
     },
     "metadata": {},
     "execution_count": 6
    }
   ],
   "source": [
    "(len(df)-shorter)/len(df) * 100"
   ]
  },
  {
   "cell_type": "code",
   "execution_count": 14,
   "metadata": {},
   "outputs": [],
   "source": [
    "df.to_parquet('data/tr_train.parquet', compression='brotli', index=False)"
   ]
  },
  {
   "cell_type": "code",
   "execution_count": 8,
   "metadata": {},
   "outputs": [
    {
     "output_type": "stream",
     "name": "stderr",
     "text": "100%|██████████| 215054/215054 [00:17<00:00, 12538.81it/s]\nThere are 9 questions of len = 3962\nThere are 62 questions of len = 3878\nThere are 44 questions of len = 3099\n\n"
    }
   ],
   "source": [
    "max_len = 0\n",
    "max2_len = 0\n",
    "max3_len = 0\n",
    "n_max, n_max2, n_max3 = 0, 0, 0\n",
    "for i, row in tqdm(df.iterrows(), total=len(df)):\n",
    "    flag = False\n",
    "    l = len(row['question'])\n",
    "    if l > max_len:\n",
    "        flag = True\n",
    "    elif l == max_len:\n",
    "        n_max += 1\n",
    "    elif l == max2_len:\n",
    "        n_max2 += 1\n",
    "    elif l == max3_len:\n",
    "        n_max3 += 1\n",
    "\n",
    "    if flag:\n",
    "        max3_len = max2_len\n",
    "        max2_len = max_len\n",
    "        max_len = l\n",
    "        n_max3 = n_max2\n",
    "        n_max2 = n_max\n",
    "        n_max = 0\n",
    "\n",
    "print('')\n",
    "print(f'There are {n_max} questions of len = {max_len}\\nThere are {n_max2} questions of len = {max2_len}\\nThere are {n_max3} questions of len = {max3_len}')"
   ]
  },
  {
   "cell_type": "markdown",
   "metadata": {},
   "source": [
    "### Смотрим call_for_collaboration"
   ]
  },
  {
   "cell_type": "code",
   "execution_count": 5,
   "metadata": {},
   "outputs": [],
   "source": [
    "df = pd.read_parquet('data/test.parquet')\n",
    "c4c = df[df['_call_4_collaboration'] == 1].reset_index()"
   ]
  },
  {
   "cell_type": "code",
   "execution_count": 12,
   "metadata": {},
   "outputs": [
    {
     "output_type": "execute_result",
     "data": {
      "text/plain": "'Привет! А кто бы согласился часов на 40 учебный курс по машинному обучению для аудиторов провести? Сложность основная в том, что контингент довольно разнородный, около 50 человек, от вчерашних студентов до бабулек. Поэтому желателен бОльший уклон в прикладную часть, чем в теорию. Территориально - Москва. Какая именно компания - в личном общении.\\nОб оплате готов в достаточно широких пределах обсуждать (от 10К/день, верхней границы нет).'"
     },
     "metadata": {},
     "execution_count": 12
    }
   ],
   "source": [
    "c4c.loc[6, 'question']"
   ]
  },
  {
   "cell_type": "code",
   "execution_count": 13,
   "metadata": {},
   "outputs": [],
   "source": [
    "df = pd.read_parquet('data/train.parquet')\n",
    "c4c_t = df[df['_call_4_collaboration'] == 1].reset_index()"
   ]
  },
  {
   "cell_type": "code",
   "execution_count": 15,
   "metadata": {},
   "outputs": [
    {
     "output_type": "execute_result",
     "data": {
      "text/plain": "'Всем привет.\\nесть тема, связанная с определение мест в фильмах/передачах, в которые удобнее всего вставлять рекламные блоки (можно вставлять в сцену где нет диалога, нет экшна, в идеале там где картинка движется монотонно или экран темнеет).\\nЕсть ли специалисты, которые умеют решать подобные задачи?'"
     },
     "metadata": {},
     "execution_count": 15
    }
   ],
   "source": [
    "c4c_t.loc[6, 'question']"
   ]
  }
 ],
 "metadata": {
  "language_info": {
   "name": "python",
   "codemirror_mode": {
    "name": "ipython",
    "version": 3
   },
   "version": "3.7.5-final"
  },
  "orig_nbformat": 2,
  "file_extension": ".py",
  "mimetype": "text/x-python",
  "name": "python",
  "npconvert_exporter": "python",
  "pygments_lexer": "ipython3",
  "version": 3,
  "kernelspec": {
   "name": "py37",
   "display_name": "Python3.7"
  }
 },
 "nbformat": 4,
 "nbformat_minor": 2
}